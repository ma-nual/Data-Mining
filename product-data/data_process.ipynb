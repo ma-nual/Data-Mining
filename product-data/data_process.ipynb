{
 "cells": [
  {
   "cell_type": "code",
   "execution_count": 1,
   "metadata": {},
   "outputs": [],
   "source": [
    "import pandas as pd\n",
    "import seaborn as sns\n",
    "import numpy as np\n",
    "import matplotlib.pyplot as plt\n",
    "from scipy.stats import skew, norm\n",
    "from sklearn.ensemble import RandomForestClassifier\n",
    "from sklearn.model_selection import KFold,train_test_split,StratifiedKFold,cross_val_score,GridSearchCV,learning_curve\n",
    "from sklearn.metrics import confusion_matrix,classification_report,accuracy_score,roc_curve,roc_auc_score,auc,precision_recall_curve,average_precision_score\n",
    "from sklearn.preprocessing import StandardScaler\n",
    "from sklearn.preprocessing import MinMaxScaler\n",
    "from sklearn.discriminant_analysis import LinearDiscriminantAnalysis\n",
    "from sklearn.metrics import classification_report\n",
    "from sklearn.ensemble import RandomForestRegressor, GradientBoostingRegressor, AdaBoostRegressor, BaggingRegressor\n",
    "from sklearn.kernel_ridge import KernelRidge\n",
    "from sklearn.linear_model import Ridge, RidgeCV\n",
    "from sklearn.linear_model import ElasticNet, ElasticNetCV\n",
    "from sklearn.pipeline import make_pipeline\n",
    "from sklearn.preprocessing import RobustScaler\n",
    "from sklearn.metrics import mean_squared_error\n",
    "from sklearn.svm import SVR\n",
    "from mlxtend.regressor import StackingCVRegressor\n",
    "import xgboost as xgb\n",
    "import lightgbm as lgb\n",
    "from lightgbm import LGBMRegressor\n",
    "from xgboost import XGBRegressor"
   ]
  },
  {
   "cell_type": "code",
   "execution_count": 2,
   "metadata": {},
   "outputs": [],
   "source": [
    "data_product = pd.read_excel('茶叶产品信息1.xlsx')"
   ]
  },
  {
   "cell_type": "code",
   "execution_count": 3,
   "metadata": {},
   "outputs": [
    {
     "data": {
      "text/html": [
       "<div>\n",
       "<style scoped>\n",
       "    .dataframe tbody tr th:only-of-type {\n",
       "        vertical-align: middle;\n",
       "    }\n",
       "\n",
       "    .dataframe tbody tr th {\n",
       "        vertical-align: top;\n",
       "    }\n",
       "\n",
       "    .dataframe thead th {\n",
       "        text-align: right;\n",
       "    }\n",
       "</style>\n",
       "<table border=\"1\" class=\"dataframe\">\n",
       "  <thead>\n",
       "    <tr style=\"text-align: right;\">\n",
       "      <th></th>\n",
       "      <th>prod_id</th>\n",
       "      <th>prod_name</th>\n",
       "      <th>url</th>\n",
       "      <th>shop_id</th>\n",
       "      <th>shop_starttime</th>\n",
       "      <th>shop_fans</th>\n",
       "      <th>prod_fans</th>\n",
       "      <th>credit_level</th>\n",
       "      <th>capture_time</th>\n",
       "      <th>净含量</th>\n",
       "      <th>包装方式</th>\n",
       "      <th>包装种类</th>\n",
       "      <th>茶种类</th>\n",
       "      <th>产地</th>\n",
       "      <th>套餐份量</th>\n",
       "      <th>套餐周期</th>\n",
       "      <th>配送频次</th>\n",
       "      <th>价格段</th>\n",
       "      <th>适用季节</th>\n",
       "      <th>级别</th>\n",
       "    </tr>\n",
       "  </thead>\n",
       "  <tbody>\n",
       "    <tr>\n",
       "      <th>0</th>\n",
       "      <td>562294924952</td>\n",
       "      <td>带茶具 金骏眉红茶 茶叶礼盒装蜜香2018新茶武夷山特级金俊眉袋装</td>\n",
       "      <td>http://item.taobao.com/item.htm?id=562294924952</td>\n",
       "      <td>2255744697</td>\n",
       "      <td>5</td>\n",
       "      <td>3084</td>\n",
       "      <td>1764</td>\n",
       "      <td>13</td>\n",
       "      <td>2018-10-23 18:36:29</td>\n",
       "      <td>330.0</td>\n",
       "      <td>包装</td>\n",
       "      <td>礼盒装</td>\n",
       "      <td>金骏眉</td>\n",
       "      <td>中国大陆 福建省 泉州市</td>\n",
       "      <td>NaN</td>\n",
       "      <td>NaN</td>\n",
       "      <td>NaN</td>\n",
       "      <td>NaN</td>\n",
       "      <td>NaN</td>\n",
       "      <td>NaN</td>\n",
       "    </tr>\n",
       "    <tr>\n",
       "      <th>1</th>\n",
       "      <td>41410066387</td>\n",
       "      <td>绿之素精品哥伦比慧兰咖啡豆 生咖啡豆烘焙可磨粉买一送一</td>\n",
       "      <td>http://item.taobao.com/item.htm?id=41410066387</td>\n",
       "      <td>2200956328</td>\n",
       "      <td>5</td>\n",
       "      <td>1703</td>\n",
       "      <td>14</td>\n",
       "      <td>11</td>\n",
       "      <td>2019-05-27 17:24:05</td>\n",
       "      <td>227.0</td>\n",
       "      <td>包装</td>\n",
       "      <td>NaN</td>\n",
       "      <td>哥伦比亚咖啡</td>\n",
       "      <td>中国大陆 上海</td>\n",
       "      <td>1人</td>\n",
       "      <td>1个月</td>\n",
       "      <td>NaN</td>\n",
       "      <td>NaN</td>\n",
       "      <td>NaN</td>\n",
       "      <td>NaN</td>\n",
       "    </tr>\n",
       "    <tr>\n",
       "      <th>2</th>\n",
       "      <td>574464883007</td>\n",
       "      <td>茉莉茶王 2018新茶 广西横县特级茉莉花茶 浓香茉莉花茶 散装茶叶</td>\n",
       "      <td>http://item.taobao.com/item.htm?id=574464883007</td>\n",
       "      <td>1914557054</td>\n",
       "      <td>4</td>\n",
       "      <td>1707</td>\n",
       "      <td>0</td>\n",
       "      <td>8</td>\n",
       "      <td>2018-10-23 19:13:49</td>\n",
       "      <td>500.0</td>\n",
       "      <td>散装</td>\n",
       "      <td>NaN</td>\n",
       "      <td>茉莉花</td>\n",
       "      <td>中国大陆 广西壮族自治区 百色市</td>\n",
       "      <td>5人</td>\n",
       "      <td>12个月</td>\n",
       "      <td>1周2次</td>\n",
       "      <td>500元以上</td>\n",
       "      <td>冬季,春季,夏季,秋季</td>\n",
       "      <td>NaN</td>\n",
       "    </tr>\n",
       "    <tr>\n",
       "      <th>3</th>\n",
       "      <td>577739403010</td>\n",
       "      <td>茗翔昊 新会陈皮柑普洱茶宫廷熟茶礼盒送礼装茶叶</td>\n",
       "      <td>http://item.taobao.com/item.htm?id=577739403010</td>\n",
       "      <td>360608231</td>\n",
       "      <td>10</td>\n",
       "      <td>21000</td>\n",
       "      <td>0</td>\n",
       "      <td>14</td>\n",
       "      <td>2018-10-16 18:25:16</td>\n",
       "      <td>360.0</td>\n",
       "      <td>包装</td>\n",
       "      <td>礼盒装</td>\n",
       "      <td>普洱茶</td>\n",
       "      <td>中国大陆 云南省 昆明市</td>\n",
       "      <td>2人</td>\n",
       "      <td>1个月</td>\n",
       "      <td>1周2次</td>\n",
       "      <td>500元以上</td>\n",
       "      <td>NaN</td>\n",
       "      <td>NaN</td>\n",
       "    </tr>\n",
       "    <tr>\n",
       "      <th>4</th>\n",
       "      <td>578617442080</td>\n",
       "      <td>袋装佳茗好品质铁观音精美礼品茶叶浓香型安溪原产地农家世代制茶</td>\n",
       "      <td>http://item.taobao.com/item.htm?id=578617442080</td>\n",
       "      <td>515164907</td>\n",
       "      <td>9</td>\n",
       "      <td>194</td>\n",
       "      <td>2</td>\n",
       "      <td>8</td>\n",
       "      <td>2018-10-24 09:44:34</td>\n",
       "      <td>500.0</td>\n",
       "      <td>食用农产品</td>\n",
       "      <td>NaN</td>\n",
       "      <td>铁观音</td>\n",
       "      <td>中国大陆 福建省 泉州市</td>\n",
       "      <td>5人</td>\n",
       "      <td>12个月</td>\n",
       "      <td>1周1次</td>\n",
       "      <td>200-299元</td>\n",
       "      <td>秋季</td>\n",
       "      <td>特级</td>\n",
       "    </tr>\n",
       "  </tbody>\n",
       "</table>\n",
       "</div>"
      ],
      "text/plain": [
       "        prod_id                           prod_name  \\\n",
       "0  562294924952   带茶具 金骏眉红茶 茶叶礼盒装蜜香2018新茶武夷山特级金俊眉袋装   \n",
       "1   41410066387         绿之素精品哥伦比慧兰咖啡豆 生咖啡豆烘焙可磨粉买一送一   \n",
       "2  574464883007  茉莉茶王 2018新茶 广西横县特级茉莉花茶 浓香茉莉花茶 散装茶叶   \n",
       "3  577739403010             茗翔昊 新会陈皮柑普洱茶宫廷熟茶礼盒送礼装茶叶   \n",
       "4  578617442080      袋装佳茗好品质铁观音精美礼品茶叶浓香型安溪原产地农家世代制茶   \n",
       "\n",
       "                                               url     shop_id  \\\n",
       "0  http://item.taobao.com/item.htm?id=562294924952  2255744697   \n",
       "1   http://item.taobao.com/item.htm?id=41410066387  2200956328   \n",
       "2  http://item.taobao.com/item.htm?id=574464883007  1914557054   \n",
       "3  http://item.taobao.com/item.htm?id=577739403010   360608231   \n",
       "4  http://item.taobao.com/item.htm?id=578617442080   515164907   \n",
       "\n",
       "   shop_starttime  shop_fans  prod_fans  credit_level        capture_time  \\\n",
       "0               5       3084       1764            13 2018-10-23 18:36:29   \n",
       "1               5       1703         14            11 2019-05-27 17:24:05   \n",
       "2               4       1707          0             8 2018-10-23 19:13:49   \n",
       "3              10      21000          0            14 2018-10-16 18:25:16   \n",
       "4               9        194          2             8 2018-10-24 09:44:34   \n",
       "\n",
       "     净含量   包装方式 包装种类     茶种类                产地 套餐份量  套餐周期   配送频次       价格段  \\\n",
       "0  330.0     包装  礼盒装     金骏眉      中国大陆 福建省 泉州市  NaN   NaN    NaN       NaN   \n",
       "1  227.0     包装  NaN  哥伦比亚咖啡           中国大陆 上海   1人   1个月    NaN       NaN   \n",
       "2  500.0     散装  NaN     茉莉花  中国大陆 广西壮族自治区 百色市   5人  12个月   1周2次    500元以上   \n",
       "3  360.0     包装  礼盒装     普洱茶      中国大陆 云南省 昆明市  2人    1个月  1周2次     500元以上   \n",
       "4  500.0  食用农产品  NaN     铁观音      中国大陆 福建省 泉州市   5人  12个月   1周1次  200-299元   \n",
       "\n",
       "          适用季节   级别  \n",
       "0          NaN  NaN  \n",
       "1          NaN  NaN  \n",
       "2  冬季,春季,夏季,秋季  NaN  \n",
       "3          NaN  NaN  \n",
       "4           秋季   特级  "
      ]
     },
     "execution_count": 3,
     "metadata": {},
     "output_type": "execute_result"
    }
   ],
   "source": [
    "data_product.head()"
   ]
  },
  {
   "cell_type": "code",
   "execution_count": 4,
   "metadata": {},
   "outputs": [],
   "source": [
    "data_product = data_product.drop(['prod_name','url','capture_time'],axis=1)"
   ]
  },
  {
   "cell_type": "code",
   "execution_count": 5,
   "metadata": {},
   "outputs": [
    {
     "data": {
      "text/html": [
       "<div>\n",
       "<style scoped>\n",
       "    .dataframe tbody tr th:only-of-type {\n",
       "        vertical-align: middle;\n",
       "    }\n",
       "\n",
       "    .dataframe tbody tr th {\n",
       "        vertical-align: top;\n",
       "    }\n",
       "\n",
       "    .dataframe thead th {\n",
       "        text-align: right;\n",
       "    }\n",
       "</style>\n",
       "<table border=\"1\" class=\"dataframe\">\n",
       "  <thead>\n",
       "    <tr style=\"text-align: right;\">\n",
       "      <th></th>\n",
       "      <th>prod_id</th>\n",
       "      <th>shop_id</th>\n",
       "      <th>shop_starttime</th>\n",
       "      <th>shop_fans</th>\n",
       "      <th>prod_fans</th>\n",
       "      <th>credit_level</th>\n",
       "      <th>净含量</th>\n",
       "      <th>包装方式</th>\n",
       "      <th>包装种类</th>\n",
       "      <th>茶种类</th>\n",
       "      <th>产地</th>\n",
       "      <th>套餐份量</th>\n",
       "      <th>套餐周期</th>\n",
       "      <th>配送频次</th>\n",
       "      <th>价格段</th>\n",
       "      <th>适用季节</th>\n",
       "      <th>级别</th>\n",
       "    </tr>\n",
       "  </thead>\n",
       "  <tbody>\n",
       "    <tr>\n",
       "      <th>0</th>\n",
       "      <td>562294924952</td>\n",
       "      <td>2255744697</td>\n",
       "      <td>5</td>\n",
       "      <td>3084</td>\n",
       "      <td>1764</td>\n",
       "      <td>13</td>\n",
       "      <td>330.0</td>\n",
       "      <td>包装</td>\n",
       "      <td>礼盒装</td>\n",
       "      <td>金骏眉</td>\n",
       "      <td>中国大陆 福建省 泉州市</td>\n",
       "      <td>NaN</td>\n",
       "      <td>NaN</td>\n",
       "      <td>NaN</td>\n",
       "      <td>NaN</td>\n",
       "      <td>NaN</td>\n",
       "      <td>NaN</td>\n",
       "    </tr>\n",
       "    <tr>\n",
       "      <th>1</th>\n",
       "      <td>41410066387</td>\n",
       "      <td>2200956328</td>\n",
       "      <td>5</td>\n",
       "      <td>1703</td>\n",
       "      <td>14</td>\n",
       "      <td>11</td>\n",
       "      <td>227.0</td>\n",
       "      <td>包装</td>\n",
       "      <td>NaN</td>\n",
       "      <td>哥伦比亚咖啡</td>\n",
       "      <td>中国大陆 上海</td>\n",
       "      <td>1人</td>\n",
       "      <td>1个月</td>\n",
       "      <td>NaN</td>\n",
       "      <td>NaN</td>\n",
       "      <td>NaN</td>\n",
       "      <td>NaN</td>\n",
       "    </tr>\n",
       "    <tr>\n",
       "      <th>2</th>\n",
       "      <td>574464883007</td>\n",
       "      <td>1914557054</td>\n",
       "      <td>4</td>\n",
       "      <td>1707</td>\n",
       "      <td>0</td>\n",
       "      <td>8</td>\n",
       "      <td>500.0</td>\n",
       "      <td>散装</td>\n",
       "      <td>NaN</td>\n",
       "      <td>茉莉花</td>\n",
       "      <td>中国大陆 广西壮族自治区 百色市</td>\n",
       "      <td>5人</td>\n",
       "      <td>12个月</td>\n",
       "      <td>1周2次</td>\n",
       "      <td>500元以上</td>\n",
       "      <td>冬季,春季,夏季,秋季</td>\n",
       "      <td>NaN</td>\n",
       "    </tr>\n",
       "    <tr>\n",
       "      <th>3</th>\n",
       "      <td>577739403010</td>\n",
       "      <td>360608231</td>\n",
       "      <td>10</td>\n",
       "      <td>21000</td>\n",
       "      <td>0</td>\n",
       "      <td>14</td>\n",
       "      <td>360.0</td>\n",
       "      <td>包装</td>\n",
       "      <td>礼盒装</td>\n",
       "      <td>普洱茶</td>\n",
       "      <td>中国大陆 云南省 昆明市</td>\n",
       "      <td>2人</td>\n",
       "      <td>1个月</td>\n",
       "      <td>1周2次</td>\n",
       "      <td>500元以上</td>\n",
       "      <td>NaN</td>\n",
       "      <td>NaN</td>\n",
       "    </tr>\n",
       "    <tr>\n",
       "      <th>4</th>\n",
       "      <td>578617442080</td>\n",
       "      <td>515164907</td>\n",
       "      <td>9</td>\n",
       "      <td>194</td>\n",
       "      <td>2</td>\n",
       "      <td>8</td>\n",
       "      <td>500.0</td>\n",
       "      <td>食用农产品</td>\n",
       "      <td>NaN</td>\n",
       "      <td>铁观音</td>\n",
       "      <td>中国大陆 福建省 泉州市</td>\n",
       "      <td>5人</td>\n",
       "      <td>12个月</td>\n",
       "      <td>1周1次</td>\n",
       "      <td>200-299元</td>\n",
       "      <td>秋季</td>\n",
       "      <td>特级</td>\n",
       "    </tr>\n",
       "  </tbody>\n",
       "</table>\n",
       "</div>"
      ],
      "text/plain": [
       "        prod_id     shop_id  shop_starttime  shop_fans  prod_fans  \\\n",
       "0  562294924952  2255744697               5       3084       1764   \n",
       "1   41410066387  2200956328               5       1703         14   \n",
       "2  574464883007  1914557054               4       1707          0   \n",
       "3  577739403010   360608231              10      21000          0   \n",
       "4  578617442080   515164907               9        194          2   \n",
       "\n",
       "   credit_level    净含量   包装方式 包装种类     茶种类                产地 套餐份量  套餐周期  \\\n",
       "0            13  330.0     包装  礼盒装     金骏眉      中国大陆 福建省 泉州市  NaN   NaN   \n",
       "1            11  227.0     包装  NaN  哥伦比亚咖啡           中国大陆 上海   1人   1个月   \n",
       "2             8  500.0     散装  NaN     茉莉花  中国大陆 广西壮族自治区 百色市   5人  12个月   \n",
       "3            14  360.0     包装  礼盒装     普洱茶      中国大陆 云南省 昆明市  2人    1个月   \n",
       "4             8  500.0  食用农产品  NaN     铁观音      中国大陆 福建省 泉州市   5人  12个月   \n",
       "\n",
       "    配送频次       价格段         适用季节   级别  \n",
       "0    NaN       NaN          NaN  NaN  \n",
       "1    NaN       NaN          NaN  NaN  \n",
       "2   1周2次    500元以上  冬季,春季,夏季,秋季  NaN  \n",
       "3  1周2次     500元以上          NaN  NaN  \n",
       "4   1周1次  200-299元           秋季   特级  "
      ]
     },
     "execution_count": 5,
     "metadata": {},
     "output_type": "execute_result"
    }
   ],
   "source": [
    "data_product.head()"
   ]
  },
  {
   "cell_type": "code",
   "execution_count": 6,
   "metadata": {},
   "outputs": [],
   "source": [
    "data_shop = pd.read_excel('茶叶店铺信息.xlsx')"
   ]
  },
  {
   "cell_type": "code",
   "execution_count": 7,
   "metadata": {},
   "outputs": [
    {
     "data": {
      "text/html": [
       "<div>\n",
       "<style scoped>\n",
       "    .dataframe tbody tr th:only-of-type {\n",
       "        vertical-align: middle;\n",
       "    }\n",
       "\n",
       "    .dataframe tbody tr th {\n",
       "        vertical-align: top;\n",
       "    }\n",
       "\n",
       "    .dataframe thead th {\n",
       "        text-align: right;\n",
       "    }\n",
       "</style>\n",
       "<table border=\"1\" class=\"dataframe\">\n",
       "  <thead>\n",
       "    <tr style=\"text-align: right;\">\n",
       "      <th></th>\n",
       "      <th>shop_id</th>\n",
       "      <th>shop_name</th>\n",
       "      <th>type</th>\n",
       "      <th>url</th>\n",
       "      <th>addr</th>\n",
       "      <th>seller</th>\n",
       "      <th>company</th>\n",
       "      <th>start_time</th>\n",
       "    </tr>\n",
       "  </thead>\n",
       "  <tbody>\n",
       "    <tr>\n",
       "      <th>0</th>\n",
       "      <td>43257451</td>\n",
       "      <td>好茶缘茶叶店</td>\n",
       "      <td>淘宝</td>\n",
       "      <td>http://shop33846503.taobao.com</td>\n",
       "      <td>浙江 金华 婺城区</td>\n",
       "      <td>郑健美</td>\n",
       "      <td>NaN</td>\n",
       "      <td>NaN</td>\n",
       "    </tr>\n",
       "    <tr>\n",
       "      <th>1</th>\n",
       "      <td>1873248616</td>\n",
       "      <td>山东特产 正品阿胶</td>\n",
       "      <td>淘宝</td>\n",
       "      <td>http://shop112170357.taobao.com</td>\n",
       "      <td>山东 济南 平阴县</td>\n",
       "      <td>正品销售4</td>\n",
       "      <td>NaN</td>\n",
       "      <td>NaN</td>\n",
       "    </tr>\n",
       "    <tr>\n",
       "      <th>2</th>\n",
       "      <td>1137030886</td>\n",
       "      <td>硒都恩施特产中心</td>\n",
       "      <td>企业店铺</td>\n",
       "      <td>http://shop104705111.taobao.com</td>\n",
       "      <td>湖北 恩施 恩施市</td>\n",
       "      <td>马潮波a</td>\n",
       "      <td>NaN</td>\n",
       "      <td>6.0</td>\n",
       "    </tr>\n",
       "    <tr>\n",
       "      <th>3</th>\n",
       "      <td>94526339</td>\n",
       "      <td>北京钓鱼台精品店</td>\n",
       "      <td>淘宝</td>\n",
       "      <td>http://shop35768403.taobao.com</td>\n",
       "      <td>北京 海淀区</td>\n",
       "      <td>zhuomei200888</td>\n",
       "      <td>NaN</td>\n",
       "      <td>11.0</td>\n",
       "    </tr>\n",
       "    <tr>\n",
       "      <th>4</th>\n",
       "      <td>392872917</td>\n",
       "      <td>羌家小店</td>\n",
       "      <td>淘宝</td>\n",
       "      <td>http://shop61163331.taobao.com</td>\n",
       "      <td>四川 绵阳 北川羌族自治县</td>\n",
       "      <td>dengding518</td>\n",
       "      <td>NaN</td>\n",
       "      <td>9.0</td>\n",
       "    </tr>\n",
       "  </tbody>\n",
       "</table>\n",
       "</div>"
      ],
      "text/plain": [
       "      shop_id  shop_name  type                              url  \\\n",
       "0    43257451     好茶缘茶叶店    淘宝   http://shop33846503.taobao.com   \n",
       "1  1873248616  山东特产 正品阿胶    淘宝  http://shop112170357.taobao.com   \n",
       "2  1137030886   硒都恩施特产中心  企业店铺  http://shop104705111.taobao.com   \n",
       "3    94526339   北京钓鱼台精品店    淘宝   http://shop35768403.taobao.com   \n",
       "4   392872917       羌家小店    淘宝   http://shop61163331.taobao.com   \n",
       "\n",
       "            addr         seller  company  start_time  \n",
       "0      浙江 金华 婺城区            郑健美      NaN         NaN  \n",
       "1      山东 济南 平阴县          正品销售4      NaN         NaN  \n",
       "2      湖北 恩施 恩施市           马潮波a      NaN         6.0  \n",
       "3         北京 海淀区  zhuomei200888      NaN        11.0  \n",
       "4  四川 绵阳 北川羌族自治县    dengding518      NaN         9.0  "
      ]
     },
     "execution_count": 7,
     "metadata": {},
     "output_type": "execute_result"
    }
   ],
   "source": [
    "data_shop.head()"
   ]
  },
  {
   "cell_type": "code",
   "execution_count": 8,
   "metadata": {},
   "outputs": [],
   "source": [
    "data_shop = data_shop.drop(['shop_name','url','seller','company'],axis=1)"
   ]
  },
  {
   "cell_type": "code",
   "execution_count": 9,
   "metadata": {},
   "outputs": [
    {
     "data": {
      "text/html": [
       "<div>\n",
       "<style scoped>\n",
       "    .dataframe tbody tr th:only-of-type {\n",
       "        vertical-align: middle;\n",
       "    }\n",
       "\n",
       "    .dataframe tbody tr th {\n",
       "        vertical-align: top;\n",
       "    }\n",
       "\n",
       "    .dataframe thead th {\n",
       "        text-align: right;\n",
       "    }\n",
       "</style>\n",
       "<table border=\"1\" class=\"dataframe\">\n",
       "  <thead>\n",
       "    <tr style=\"text-align: right;\">\n",
       "      <th></th>\n",
       "      <th>shop_id</th>\n",
       "      <th>type</th>\n",
       "      <th>addr</th>\n",
       "      <th>start_time</th>\n",
       "    </tr>\n",
       "  </thead>\n",
       "  <tbody>\n",
       "    <tr>\n",
       "      <th>0</th>\n",
       "      <td>43257451</td>\n",
       "      <td>淘宝</td>\n",
       "      <td>浙江 金华 婺城区</td>\n",
       "      <td>NaN</td>\n",
       "    </tr>\n",
       "    <tr>\n",
       "      <th>1</th>\n",
       "      <td>1873248616</td>\n",
       "      <td>淘宝</td>\n",
       "      <td>山东 济南 平阴县</td>\n",
       "      <td>NaN</td>\n",
       "    </tr>\n",
       "    <tr>\n",
       "      <th>2</th>\n",
       "      <td>1137030886</td>\n",
       "      <td>企业店铺</td>\n",
       "      <td>湖北 恩施 恩施市</td>\n",
       "      <td>6.0</td>\n",
       "    </tr>\n",
       "    <tr>\n",
       "      <th>3</th>\n",
       "      <td>94526339</td>\n",
       "      <td>淘宝</td>\n",
       "      <td>北京 海淀区</td>\n",
       "      <td>11.0</td>\n",
       "    </tr>\n",
       "    <tr>\n",
       "      <th>4</th>\n",
       "      <td>392872917</td>\n",
       "      <td>淘宝</td>\n",
       "      <td>四川 绵阳 北川羌族自治县</td>\n",
       "      <td>9.0</td>\n",
       "    </tr>\n",
       "  </tbody>\n",
       "</table>\n",
       "</div>"
      ],
      "text/plain": [
       "      shop_id  type           addr  start_time\n",
       "0    43257451    淘宝      浙江 金华 婺城区         NaN\n",
       "1  1873248616    淘宝      山东 济南 平阴县         NaN\n",
       "2  1137030886  企业店铺      湖北 恩施 恩施市         6.0\n",
       "3    94526339    淘宝         北京 海淀区        11.0\n",
       "4   392872917    淘宝  四川 绵阳 北川羌族自治县         9.0"
      ]
     },
     "execution_count": 9,
     "metadata": {},
     "output_type": "execute_result"
    }
   ],
   "source": [
    "data_shop.head()"
   ]
  },
  {
   "cell_type": "code",
   "execution_count": 10,
   "metadata": {},
   "outputs": [],
   "source": [
    "data_buy = pd.read_excel('茶叶交易信息.xlsx')"
   ]
  },
  {
   "cell_type": "code",
   "execution_count": 11,
   "metadata": {},
   "outputs": [
    {
     "data": {
      "text/html": [
       "<div>\n",
       "<style scoped>\n",
       "    .dataframe tbody tr th:only-of-type {\n",
       "        vertical-align: middle;\n",
       "    }\n",
       "\n",
       "    .dataframe tbody tr th {\n",
       "        vertical-align: top;\n",
       "    }\n",
       "\n",
       "    .dataframe thead th {\n",
       "        text-align: right;\n",
       "    }\n",
       "</style>\n",
       "<table border=\"1\" class=\"dataframe\">\n",
       "  <thead>\n",
       "    <tr style=\"text-align: right;\">\n",
       "      <th></th>\n",
       "      <th>prod_id</th>\n",
       "      <th>prod_name</th>\n",
       "      <th>addr</th>\n",
       "      <th>price_01</th>\n",
       "      <th>price_02</th>\n",
       "      <th>price_03</th>\n",
       "      <th>price_04</th>\n",
       "      <th>price_05</th>\n",
       "      <th>price_06</th>\n",
       "      <th>price_07</th>\n",
       "      <th>...</th>\n",
       "      <th>price_09</th>\n",
       "      <th>month_amount_01</th>\n",
       "      <th>month_amount_02</th>\n",
       "      <th>month_amount_03</th>\n",
       "      <th>month_amount_04</th>\n",
       "      <th>month_amount_05</th>\n",
       "      <th>month_amount_06</th>\n",
       "      <th>month_amount_07</th>\n",
       "      <th>month_amount_08</th>\n",
       "      <th>month_amount_09</th>\n",
       "    </tr>\n",
       "  </thead>\n",
       "  <tbody>\n",
       "    <tr>\n",
       "      <th>0</th>\n",
       "      <td>522651389510</td>\n",
       "      <td>毛尖蘑</td>\n",
       "      <td>黑龙江 大兴安岭 归口大兴安岭</td>\n",
       "      <td>120.0</td>\n",
       "      <td>120.0</td>\n",
       "      <td>120.0</td>\n",
       "      <td>120.0</td>\n",
       "      <td>120.0</td>\n",
       "      <td>NaN</td>\n",
       "      <td>NaN</td>\n",
       "      <td>...</td>\n",
       "      <td>NaN</td>\n",
       "      <td>0.0</td>\n",
       "      <td>0.0</td>\n",
       "      <td>0.0</td>\n",
       "      <td>0.0</td>\n",
       "      <td>0.0</td>\n",
       "      <td>NaN</td>\n",
       "      <td>NaN</td>\n",
       "      <td>NaN</td>\n",
       "      <td>NaN</td>\n",
       "    </tr>\n",
       "    <tr>\n",
       "      <th>1</th>\n",
       "      <td>39799836746</td>\n",
       "      <td>华彤6个装礼盒正宗新会柑普茶陈皮普洱茶熟茶送礼品茶叶</td>\n",
       "      <td>广东 江门 新会区</td>\n",
       "      <td>NaN</td>\n",
       "      <td>NaN</td>\n",
       "      <td>NaN</td>\n",
       "      <td>NaN</td>\n",
       "      <td>148.0</td>\n",
       "      <td>148.0</td>\n",
       "      <td>148.0</td>\n",
       "      <td>...</td>\n",
       "      <td>NaN</td>\n",
       "      <td>NaN</td>\n",
       "      <td>NaN</td>\n",
       "      <td>NaN</td>\n",
       "      <td>NaN</td>\n",
       "      <td>2.0</td>\n",
       "      <td>0.0</td>\n",
       "      <td>0.0</td>\n",
       "      <td>0.0</td>\n",
       "      <td>NaN</td>\n",
       "    </tr>\n",
       "    <tr>\n",
       "      <th>2</th>\n",
       "      <td>578325469761</td>\n",
       "      <td>大益普洱茶甜醇普洱熟茶饼茶四年陈紧压茶云南勐海300g茶叶*3饼</td>\n",
       "      <td>北京 海淀区</td>\n",
       "      <td>338.0</td>\n",
       "      <td>378.0</td>\n",
       "      <td>338.0</td>\n",
       "      <td>338.0</td>\n",
       "      <td>378.0</td>\n",
       "      <td>338.0</td>\n",
       "      <td>NaN</td>\n",
       "      <td>...</td>\n",
       "      <td>NaN</td>\n",
       "      <td>34.0</td>\n",
       "      <td>22.0</td>\n",
       "      <td>26.0</td>\n",
       "      <td>4.0</td>\n",
       "      <td>4.0</td>\n",
       "      <td>0.0</td>\n",
       "      <td>NaN</td>\n",
       "      <td>0.0</td>\n",
       "      <td>NaN</td>\n",
       "    </tr>\n",
       "    <tr>\n",
       "      <th>3</th>\n",
       "      <td>564103628459</td>\n",
       "      <td>喜庆过年年货礼盒包装盒红茶大红袍包装盒空礼盒普洱茶饼包装盒</td>\n",
       "      <td>江西 萍乡 湘东区</td>\n",
       "      <td>NaN</td>\n",
       "      <td>NaN</td>\n",
       "      <td>20.0</td>\n",
       "      <td>20.0</td>\n",
       "      <td>20.0</td>\n",
       "      <td>20.0</td>\n",
       "      <td>NaN</td>\n",
       "      <td>...</td>\n",
       "      <td>NaN</td>\n",
       "      <td>NaN</td>\n",
       "      <td>NaN</td>\n",
       "      <td>0.0</td>\n",
       "      <td>0.0</td>\n",
       "      <td>0.0</td>\n",
       "      <td>0.0</td>\n",
       "      <td>NaN</td>\n",
       "      <td>NaN</td>\n",
       "      <td>NaN</td>\n",
       "    </tr>\n",
       "    <tr>\n",
       "      <th>4</th>\n",
       "      <td>582196620578</td>\n",
       "      <td>新品包邮黑茶湖南安化天尖茶谷雨春茶一级黑茶散茶纯料黑茶私房茶</td>\n",
       "      <td>广东 广州 荔湾区</td>\n",
       "      <td>59.0</td>\n",
       "      <td>39.0</td>\n",
       "      <td>39.0</td>\n",
       "      <td>69.0</td>\n",
       "      <td>69.0</td>\n",
       "      <td>NaN</td>\n",
       "      <td>NaN</td>\n",
       "      <td>...</td>\n",
       "      <td>NaN</td>\n",
       "      <td>3.0</td>\n",
       "      <td>2.0</td>\n",
       "      <td>12.0</td>\n",
       "      <td>0.0</td>\n",
       "      <td>0.0</td>\n",
       "      <td>NaN</td>\n",
       "      <td>NaN</td>\n",
       "      <td>NaN</td>\n",
       "      <td>NaN</td>\n",
       "    </tr>\n",
       "  </tbody>\n",
       "</table>\n",
       "<p>5 rows × 21 columns</p>\n",
       "</div>"
      ],
      "text/plain": [
       "        prod_id                         prod_name             addr  price_01  \\\n",
       "0  522651389510                               毛尖蘑  黑龙江 大兴安岭 归口大兴安岭     120.0   \n",
       "1   39799836746        华彤6个装礼盒正宗新会柑普茶陈皮普洱茶熟茶送礼品茶叶        广东 江门 新会区       NaN   \n",
       "2  578325469761  大益普洱茶甜醇普洱熟茶饼茶四年陈紧压茶云南勐海300g茶叶*3饼           北京 海淀区     338.0   \n",
       "3  564103628459     喜庆过年年货礼盒包装盒红茶大红袍包装盒空礼盒普洱茶饼包装盒        江西 萍乡 湘东区       NaN   \n",
       "4  582196620578    新品包邮黑茶湖南安化天尖茶谷雨春茶一级黑茶散茶纯料黑茶私房茶        广东 广州 荔湾区      59.0   \n",
       "\n",
       "   price_02  price_03  price_04  price_05  price_06  price_07  ...  price_09  \\\n",
       "0     120.0     120.0     120.0     120.0       NaN       NaN  ...       NaN   \n",
       "1       NaN       NaN       NaN     148.0     148.0     148.0  ...       NaN   \n",
       "2     378.0     338.0     338.0     378.0     338.0       NaN  ...       NaN   \n",
       "3       NaN      20.0      20.0      20.0      20.0       NaN  ...       NaN   \n",
       "4      39.0      39.0      69.0      69.0       NaN       NaN  ...       NaN   \n",
       "\n",
       "   month_amount_01  month_amount_02  month_amount_03  month_amount_04  \\\n",
       "0              0.0              0.0              0.0              0.0   \n",
       "1              NaN              NaN              NaN              NaN   \n",
       "2             34.0             22.0             26.0              4.0   \n",
       "3              NaN              NaN              0.0              0.0   \n",
       "4              3.0              2.0             12.0              0.0   \n",
       "\n",
       "   month_amount_05  month_amount_06  month_amount_07  month_amount_08  \\\n",
       "0              0.0              NaN              NaN              NaN   \n",
       "1              2.0              0.0              0.0              0.0   \n",
       "2              4.0              0.0              NaN              0.0   \n",
       "3              0.0              0.0              NaN              NaN   \n",
       "4              0.0              NaN              NaN              NaN   \n",
       "\n",
       "   month_amount_09  \n",
       "0              NaN  \n",
       "1              NaN  \n",
       "2              NaN  \n",
       "3              NaN  \n",
       "4              NaN  \n",
       "\n",
       "[5 rows x 21 columns]"
      ]
     },
     "execution_count": 11,
     "metadata": {},
     "output_type": "execute_result"
    }
   ],
   "source": [
    "data_buy.head()"
   ]
  },
  {
   "cell_type": "code",
   "execution_count": 12,
   "metadata": {},
   "outputs": [],
   "source": [
    "data_buy = data_buy.drop(['prod_name'],axis=1)"
   ]
  },
  {
   "cell_type": "code",
   "execution_count": 13,
   "metadata": {},
   "outputs": [
    {
     "data": {
      "text/html": [
       "<div>\n",
       "<style scoped>\n",
       "    .dataframe tbody tr th:only-of-type {\n",
       "        vertical-align: middle;\n",
       "    }\n",
       "\n",
       "    .dataframe tbody tr th {\n",
       "        vertical-align: top;\n",
       "    }\n",
       "\n",
       "    .dataframe thead th {\n",
       "        text-align: right;\n",
       "    }\n",
       "</style>\n",
       "<table border=\"1\" class=\"dataframe\">\n",
       "  <thead>\n",
       "    <tr style=\"text-align: right;\">\n",
       "      <th></th>\n",
       "      <th>prod_id</th>\n",
       "      <th>addr</th>\n",
       "      <th>price_01</th>\n",
       "      <th>price_02</th>\n",
       "      <th>price_03</th>\n",
       "      <th>price_04</th>\n",
       "      <th>price_05</th>\n",
       "      <th>price_06</th>\n",
       "      <th>price_07</th>\n",
       "      <th>price_08</th>\n",
       "      <th>price_09</th>\n",
       "      <th>month_amount_01</th>\n",
       "      <th>month_amount_02</th>\n",
       "      <th>month_amount_03</th>\n",
       "      <th>month_amount_04</th>\n",
       "      <th>month_amount_05</th>\n",
       "      <th>month_amount_06</th>\n",
       "      <th>month_amount_07</th>\n",
       "      <th>month_amount_08</th>\n",
       "      <th>month_amount_09</th>\n",
       "    </tr>\n",
       "  </thead>\n",
       "  <tbody>\n",
       "    <tr>\n",
       "      <th>0</th>\n",
       "      <td>522651389510</td>\n",
       "      <td>黑龙江 大兴安岭 归口大兴安岭</td>\n",
       "      <td>120.0</td>\n",
       "      <td>120.0</td>\n",
       "      <td>120.0</td>\n",
       "      <td>120.0</td>\n",
       "      <td>120.0</td>\n",
       "      <td>NaN</td>\n",
       "      <td>NaN</td>\n",
       "      <td>NaN</td>\n",
       "      <td>NaN</td>\n",
       "      <td>0.0</td>\n",
       "      <td>0.0</td>\n",
       "      <td>0.0</td>\n",
       "      <td>0.0</td>\n",
       "      <td>0.0</td>\n",
       "      <td>NaN</td>\n",
       "      <td>NaN</td>\n",
       "      <td>NaN</td>\n",
       "      <td>NaN</td>\n",
       "    </tr>\n",
       "    <tr>\n",
       "      <th>1</th>\n",
       "      <td>39799836746</td>\n",
       "      <td>广东 江门 新会区</td>\n",
       "      <td>NaN</td>\n",
       "      <td>NaN</td>\n",
       "      <td>NaN</td>\n",
       "      <td>NaN</td>\n",
       "      <td>148.0</td>\n",
       "      <td>148.0</td>\n",
       "      <td>148.0</td>\n",
       "      <td>148.0</td>\n",
       "      <td>NaN</td>\n",
       "      <td>NaN</td>\n",
       "      <td>NaN</td>\n",
       "      <td>NaN</td>\n",
       "      <td>NaN</td>\n",
       "      <td>2.0</td>\n",
       "      <td>0.0</td>\n",
       "      <td>0.0</td>\n",
       "      <td>0.0</td>\n",
       "      <td>NaN</td>\n",
       "    </tr>\n",
       "    <tr>\n",
       "      <th>2</th>\n",
       "      <td>578325469761</td>\n",
       "      <td>北京 海淀区</td>\n",
       "      <td>338.0</td>\n",
       "      <td>378.0</td>\n",
       "      <td>338.0</td>\n",
       "      <td>338.0</td>\n",
       "      <td>378.0</td>\n",
       "      <td>338.0</td>\n",
       "      <td>NaN</td>\n",
       "      <td>699.0</td>\n",
       "      <td>NaN</td>\n",
       "      <td>34.0</td>\n",
       "      <td>22.0</td>\n",
       "      <td>26.0</td>\n",
       "      <td>4.0</td>\n",
       "      <td>4.0</td>\n",
       "      <td>0.0</td>\n",
       "      <td>NaN</td>\n",
       "      <td>0.0</td>\n",
       "      <td>NaN</td>\n",
       "    </tr>\n",
       "    <tr>\n",
       "      <th>3</th>\n",
       "      <td>564103628459</td>\n",
       "      <td>江西 萍乡 湘东区</td>\n",
       "      <td>NaN</td>\n",
       "      <td>NaN</td>\n",
       "      <td>20.0</td>\n",
       "      <td>20.0</td>\n",
       "      <td>20.0</td>\n",
       "      <td>20.0</td>\n",
       "      <td>NaN</td>\n",
       "      <td>NaN</td>\n",
       "      <td>NaN</td>\n",
       "      <td>NaN</td>\n",
       "      <td>NaN</td>\n",
       "      <td>0.0</td>\n",
       "      <td>0.0</td>\n",
       "      <td>0.0</td>\n",
       "      <td>0.0</td>\n",
       "      <td>NaN</td>\n",
       "      <td>NaN</td>\n",
       "      <td>NaN</td>\n",
       "    </tr>\n",
       "    <tr>\n",
       "      <th>4</th>\n",
       "      <td>582196620578</td>\n",
       "      <td>广东 广州 荔湾区</td>\n",
       "      <td>59.0</td>\n",
       "      <td>39.0</td>\n",
       "      <td>39.0</td>\n",
       "      <td>69.0</td>\n",
       "      <td>69.0</td>\n",
       "      <td>NaN</td>\n",
       "      <td>NaN</td>\n",
       "      <td>NaN</td>\n",
       "      <td>NaN</td>\n",
       "      <td>3.0</td>\n",
       "      <td>2.0</td>\n",
       "      <td>12.0</td>\n",
       "      <td>0.0</td>\n",
       "      <td>0.0</td>\n",
       "      <td>NaN</td>\n",
       "      <td>NaN</td>\n",
       "      <td>NaN</td>\n",
       "      <td>NaN</td>\n",
       "    </tr>\n",
       "  </tbody>\n",
       "</table>\n",
       "</div>"
      ],
      "text/plain": [
       "        prod_id             addr  price_01  price_02  price_03  price_04  \\\n",
       "0  522651389510  黑龙江 大兴安岭 归口大兴安岭     120.0     120.0     120.0     120.0   \n",
       "1   39799836746        广东 江门 新会区       NaN       NaN       NaN       NaN   \n",
       "2  578325469761           北京 海淀区     338.0     378.0     338.0     338.0   \n",
       "3  564103628459        江西 萍乡 湘东区       NaN       NaN      20.0      20.0   \n",
       "4  582196620578        广东 广州 荔湾区      59.0      39.0      39.0      69.0   \n",
       "\n",
       "   price_05  price_06  price_07  price_08  price_09  month_amount_01  \\\n",
       "0     120.0       NaN       NaN       NaN       NaN              0.0   \n",
       "1     148.0     148.0     148.0     148.0       NaN              NaN   \n",
       "2     378.0     338.0       NaN     699.0       NaN             34.0   \n",
       "3      20.0      20.0       NaN       NaN       NaN              NaN   \n",
       "4      69.0       NaN       NaN       NaN       NaN              3.0   \n",
       "\n",
       "   month_amount_02  month_amount_03  month_amount_04  month_amount_05  \\\n",
       "0              0.0              0.0              0.0              0.0   \n",
       "1              NaN              NaN              NaN              2.0   \n",
       "2             22.0             26.0              4.0              4.0   \n",
       "3              NaN              0.0              0.0              0.0   \n",
       "4              2.0             12.0              0.0              0.0   \n",
       "\n",
       "   month_amount_06  month_amount_07  month_amount_08  month_amount_09  \n",
       "0              NaN              NaN              NaN              NaN  \n",
       "1              0.0              0.0              0.0              NaN  \n",
       "2              0.0              NaN              0.0              NaN  \n",
       "3              0.0              NaN              NaN              NaN  \n",
       "4              NaN              NaN              NaN              NaN  "
      ]
     },
     "execution_count": 13,
     "metadata": {},
     "output_type": "execute_result"
    }
   ],
   "source": [
    "data_buy.head()"
   ]
  },
  {
   "cell_type": "code",
   "execution_count": 16,
   "metadata": {},
   "outputs": [],
   "source": [
    "data_comp = pd.read_excel('茶叶企业信息数据类.xlsx')"
   ]
  },
  {
   "cell_type": "code",
   "execution_count": 17,
   "metadata": {},
   "outputs": [
    {
     "data": {
      "text/html": [
       "<div>\n",
       "<style scoped>\n",
       "    .dataframe tbody tr th:only-of-type {\n",
       "        vertical-align: middle;\n",
       "    }\n",
       "\n",
       "    .dataframe tbody tr th {\n",
       "        vertical-align: top;\n",
       "    }\n",
       "\n",
       "    .dataframe thead th {\n",
       "        text-align: right;\n",
       "    }\n",
       "</style>\n",
       "<table border=\"1\" class=\"dataframe\">\n",
       "  <thead>\n",
       "    <tr style=\"text-align: right;\">\n",
       "      <th></th>\n",
       "      <th>company_id</th>\n",
       "      <th>company_name</th>\n",
       "      <th>address</th>\n",
       "      <th>capital</th>\n",
       "      <th>status</th>\n",
       "      <th>founding_time</th>\n",
       "      <th>legal_person</th>\n",
       "      <th>url</th>\n",
       "    </tr>\n",
       "  </thead>\n",
       "  <tbody>\n",
       "    <tr>\n",
       "      <th>0</th>\n",
       "      <td>8434157</td>\n",
       "      <td>湖南惟楚福瑞达生物科技有限公司</td>\n",
       "      <td>益阳市高新区梅林路61号</td>\n",
       "      <td>6333.330000万</td>\n",
       "      <td>存续</td>\n",
       "      <td>6</td>\n",
       "      <td>刘德</td>\n",
       "      <td>http://www.qichacha.com/firm_a7f72e1b1723e994f...</td>\n",
       "    </tr>\n",
       "    <tr>\n",
       "      <th>1</th>\n",
       "      <td>8340479</td>\n",
       "      <td>陕西昌盛德商贸有限公司</td>\n",
       "      <td>陕西省西安市经开区未央路以西凤城五路南侧富力广场赛高国际街区3幢2单元5层215...</td>\n",
       "      <td>300万</td>\n",
       "      <td>开业</td>\n",
       "      <td>6</td>\n",
       "      <td>强超</td>\n",
       "      <td>http://www.qichacha.com/firm_4781b7cc89412905c...</td>\n",
       "    </tr>\n",
       "    <tr>\n",
       "      <th>2</th>\n",
       "      <td>8340383</td>\n",
       "      <td>石家庄市淘达商贸有限公司</td>\n",
       "      <td>河北省石家庄市桥西区大经街28号中山华府2号商务楼2715</td>\n",
       "      <td>100万</td>\n",
       "      <td>存续（在营、开业、在册）</td>\n",
       "      <td>9</td>\n",
       "      <td>董彦</td>\n",
       "      <td>http://www.qichacha.com/firm_d60b4033deeea63c8...</td>\n",
       "    </tr>\n",
       "    <tr>\n",
       "      <th>3</th>\n",
       "      <td>8442993</td>\n",
       "      <td>西安虎标茶果土产食品有限公司</td>\n",
       "      <td>西安市高新区造字台路109号初元科技产业园B座302室</td>\n",
       "      <td>1150万</td>\n",
       "      <td>开业</td>\n",
       "      <td>17</td>\n",
       "      <td>李建文</td>\n",
       "      <td>http://www.qichacha.com/firm_15b52faaa14e8902e...</td>\n",
       "    </tr>\n",
       "    <tr>\n",
       "      <th>4</th>\n",
       "      <td>8375386</td>\n",
       "      <td>深圳前海一味生物科技有限公司</td>\n",
       "      <td>深圳市前海深港合作区前湾一路1号A栋201室(入驻深圳市前海商务秘书有限公司)经...</td>\n",
       "      <td>500万</td>\n",
       "      <td>存续（在营、开业、在册）</td>\n",
       "      <td>6</td>\n",
       "      <td>盘其伟</td>\n",
       "      <td>http://www.qichacha.com/firm_d8ae40ef5bc100ef2...</td>\n",
       "    </tr>\n",
       "  </tbody>\n",
       "</table>\n",
       "</div>"
      ],
      "text/plain": [
       "   company_id     company_name                                      address  \\\n",
       "0     8434157  湖南惟楚福瑞达生物科技有限公司                                 益阳市高新区梅林路61号   \n",
       "1     8340479      陕西昌盛德商贸有限公司  陕西省西安市经开区未央路以西凤城五路南侧富力广场赛高国际街区3幢2单元5层215...   \n",
       "2     8340383     石家庄市淘达商贸有限公司                河北省石家庄市桥西区大经街28号中山华府2号商务楼2715   \n",
       "3     8442993   西安虎标茶果土产食品有限公司                  西安市高新区造字台路109号初元科技产业园B座302室   \n",
       "4     8375386   深圳前海一味生物科技有限公司  深圳市前海深港合作区前湾一路1号A栋201室(入驻深圳市前海商务秘书有限公司)经...   \n",
       "\n",
       "        capital        status  founding_time legal_person  \\\n",
       "0  6333.330000万            存续              6           刘德   \n",
       "1          300万            开业              6           强超   \n",
       "2          100万  存续（在营、开业、在册）              9           董彦   \n",
       "3         1150万            开业             17          李建文   \n",
       "4          500万  存续（在营、开业、在册）              6          盘其伟   \n",
       "\n",
       "                                                 url  \n",
       "0  http://www.qichacha.com/firm_a7f72e1b1723e994f...  \n",
       "1  http://www.qichacha.com/firm_4781b7cc89412905c...  \n",
       "2  http://www.qichacha.com/firm_d60b4033deeea63c8...  \n",
       "3  http://www.qichacha.com/firm_15b52faaa14e8902e...  \n",
       "4  http://www.qichacha.com/firm_d8ae40ef5bc100ef2...  "
      ]
     },
     "execution_count": 17,
     "metadata": {},
     "output_type": "execute_result"
    }
   ],
   "source": [
    "data_comp.head()"
   ]
  },
  {
   "cell_type": "code",
   "execution_count": 18,
   "metadata": {},
   "outputs": [],
   "source": [
    "data_comp = data_comp.drop(['company_name','legal_person','url'],axis=1)"
   ]
  },
  {
   "cell_type": "code",
   "execution_count": 19,
   "metadata": {},
   "outputs": [
    {
     "data": {
      "text/html": [
       "<div>\n",
       "<style scoped>\n",
       "    .dataframe tbody tr th:only-of-type {\n",
       "        vertical-align: middle;\n",
       "    }\n",
       "\n",
       "    .dataframe tbody tr th {\n",
       "        vertical-align: top;\n",
       "    }\n",
       "\n",
       "    .dataframe thead th {\n",
       "        text-align: right;\n",
       "    }\n",
       "</style>\n",
       "<table border=\"1\" class=\"dataframe\">\n",
       "  <thead>\n",
       "    <tr style=\"text-align: right;\">\n",
       "      <th></th>\n",
       "      <th>company_id</th>\n",
       "      <th>address</th>\n",
       "      <th>capital</th>\n",
       "      <th>status</th>\n",
       "      <th>founding_time</th>\n",
       "    </tr>\n",
       "  </thead>\n",
       "  <tbody>\n",
       "    <tr>\n",
       "      <th>0</th>\n",
       "      <td>8434157</td>\n",
       "      <td>益阳市高新区梅林路61号</td>\n",
       "      <td>6333.330000万</td>\n",
       "      <td>存续</td>\n",
       "      <td>6</td>\n",
       "    </tr>\n",
       "    <tr>\n",
       "      <th>1</th>\n",
       "      <td>8340479</td>\n",
       "      <td>陕西省西安市经开区未央路以西凤城五路南侧富力广场赛高国际街区3幢2单元5层215...</td>\n",
       "      <td>300万</td>\n",
       "      <td>开业</td>\n",
       "      <td>6</td>\n",
       "    </tr>\n",
       "    <tr>\n",
       "      <th>2</th>\n",
       "      <td>8340383</td>\n",
       "      <td>河北省石家庄市桥西区大经街28号中山华府2号商务楼2715</td>\n",
       "      <td>100万</td>\n",
       "      <td>存续（在营、开业、在册）</td>\n",
       "      <td>9</td>\n",
       "    </tr>\n",
       "    <tr>\n",
       "      <th>3</th>\n",
       "      <td>8442993</td>\n",
       "      <td>西安市高新区造字台路109号初元科技产业园B座302室</td>\n",
       "      <td>1150万</td>\n",
       "      <td>开业</td>\n",
       "      <td>17</td>\n",
       "    </tr>\n",
       "    <tr>\n",
       "      <th>4</th>\n",
       "      <td>8375386</td>\n",
       "      <td>深圳市前海深港合作区前湾一路1号A栋201室(入驻深圳市前海商务秘书有限公司)经...</td>\n",
       "      <td>500万</td>\n",
       "      <td>存续（在营、开业、在册）</td>\n",
       "      <td>6</td>\n",
       "    </tr>\n",
       "  </tbody>\n",
       "</table>\n",
       "</div>"
      ],
      "text/plain": [
       "   company_id                                      address       capital  \\\n",
       "0     8434157                                 益阳市高新区梅林路61号  6333.330000万   \n",
       "1     8340479  陕西省西安市经开区未央路以西凤城五路南侧富力广场赛高国际街区3幢2单元5层215...          300万   \n",
       "2     8340383                河北省石家庄市桥西区大经街28号中山华府2号商务楼2715          100万   \n",
       "3     8442993                  西安市高新区造字台路109号初元科技产业园B座302室         1150万   \n",
       "4     8375386  深圳市前海深港合作区前湾一路1号A栋201室(入驻深圳市前海商务秘书有限公司)经...          500万   \n",
       "\n",
       "         status  founding_time  \n",
       "0            存续              6  \n",
       "1            开业              6  \n",
       "2  存续（在营、开业、在册）              9  \n",
       "3            开业             17  \n",
       "4  存续（在营、开业、在册）              6  "
      ]
     },
     "execution_count": 19,
     "metadata": {},
     "output_type": "execute_result"
    }
   ],
   "source": [
    "data_comp.head()"
   ]
  },
  {
   "cell_type": "code",
   "execution_count": 2,
   "metadata": {},
   "outputs": [],
   "source": [
    "dataset = pd.read_excel('茶叶数据集.xls')"
   ]
  },
  {
   "cell_type": "code",
   "execution_count": 3,
   "metadata": {},
   "outputs": [
    {
     "data": {
      "text/html": [
       "<div>\n",
       "<style scoped>\n",
       "    .dataframe tbody tr th:only-of-type {\n",
       "        vertical-align: middle;\n",
       "    }\n",
       "\n",
       "    .dataframe tbody tr th {\n",
       "        vertical-align: top;\n",
       "    }\n",
       "\n",
       "    .dataframe thead th {\n",
       "        text-align: right;\n",
       "    }\n",
       "</style>\n",
       "<table border=\"1\" class=\"dataframe\">\n",
       "  <thead>\n",
       "    <tr style=\"text-align: right;\">\n",
       "      <th></th>\n",
       "      <th>商品名</th>\n",
       "      <th>单价/元</th>\n",
       "      <th>店铺名称</th>\n",
       "      <th>店铺位置</th>\n",
       "      <th>商品月销</th>\n",
       "      <th>商品评论数</th>\n",
       "      <th>商品人气</th>\n",
       "      <th>品牌</th>\n",
       "      <th>茶种类</th>\n",
       "      <th>省份</th>\n",
       "      <th>城市</th>\n",
       "      <th>包装方式</th>\n",
       "      <th>包装种类</th>\n",
       "      <th>净含量</th>\n",
       "      <th>商品详情</th>\n",
       "      <th>原产地</th>\n",
       "      <th>收益</th>\n",
       "    </tr>\n",
       "  </thead>\n",
       "  <tbody>\n",
       "    <tr>\n",
       "      <th>0</th>\n",
       "      <td>2020新茶上市八马茶叶明前龙井绿茶特级浙江龙井春茶125g</td>\n",
       "      <td>158.0</td>\n",
       "      <td>八马旗舰店</td>\n",
       "      <td>广东深圳</td>\n",
       "      <td>334</td>\n",
       "      <td>334</td>\n",
       "      <td>871.0</td>\n",
       "      <td>八马</td>\n",
       "      <td>浙江龙井</td>\n",
       "      <td>浙江省</td>\n",
       "      <td>杭州市</td>\n",
       "      <td>包装</td>\n",
       "      <td>罐装</td>\n",
       "      <td>125</td>\n",
       "      <td>产品参数：\\n生产许可证编号：SC11433010613458\\n厂名：杭州正一心茶业有限公...</td>\n",
       "      <td>0</td>\n",
       "      <td>52772.0</td>\n",
       "    </tr>\n",
       "    <tr>\n",
       "      <th>1</th>\n",
       "      <td>王氏雄风2020年新茶正宗西湖泉龙井茶特级明前绿茶散装茶叶500g</td>\n",
       "      <td>488.0</td>\n",
       "      <td>王氏雄风茶业</td>\n",
       "      <td>福建泉州</td>\n",
       "      <td>7642</td>\n",
       "      <td>7352</td>\n",
       "      <td>6874.0</td>\n",
       "      <td>王氏雄风</td>\n",
       "      <td>西湖龙井</td>\n",
       "      <td>浙江省</td>\n",
       "      <td>杭州市</td>\n",
       "      <td>包装</td>\n",
       "      <td>罐装</td>\n",
       "      <td>500</td>\n",
       "      <td>生产许可证编号:SC11433010613667\\n厂名:杭州绿颐茶业有限公司\\n厂址:浙江...</td>\n",
       "      <td>0</td>\n",
       "      <td>3729296.0</td>\n",
       "    </tr>\n",
       "    <tr>\n",
       "      <th>2</th>\n",
       "      <td>闽丹2020新茶正宗杭州西湖龙井茶叶特级明前雨前绿茶散礼盒装300g</td>\n",
       "      <td>368.0</td>\n",
       "      <td>闽丹茶叶旗舰店</td>\n",
       "      <td>浙江杭州</td>\n",
       "      <td>6677</td>\n",
       "      <td>6677</td>\n",
       "      <td>6086.0</td>\n",
       "      <td>闽丹</td>\n",
       "      <td>西湖龙井</td>\n",
       "      <td>浙江省</td>\n",
       "      <td>杭州市</td>\n",
       "      <td>包装</td>\n",
       "      <td>罐装</td>\n",
       "      <td>300</td>\n",
       "      <td>产品参数：\\n生产许可证编号：SC11433010613667\\n厂名：杭州绿颐茶业有限公司...</td>\n",
       "      <td>1</td>\n",
       "      <td>2457136.0</td>\n",
       "    </tr>\n",
       "    <tr>\n",
       "      <th>3</th>\n",
       "      <td>正山王2020新茶正宗明前浓香龙井茶叶500g西湖区绿茶高山龙井春茶</td>\n",
       "      <td>280.0</td>\n",
       "      <td>正山王旗舰店</td>\n",
       "      <td>福建泉州</td>\n",
       "      <td>2546</td>\n",
       "      <td>2546</td>\n",
       "      <td>3709.0</td>\n",
       "      <td>正山王</td>\n",
       "      <td>钱塘龙井</td>\n",
       "      <td>浙江省</td>\n",
       "      <td>杭州市</td>\n",
       "      <td>包装</td>\n",
       "      <td>罐装</td>\n",
       "      <td>500</td>\n",
       "      <td>产品参数：\\n生产许可证编号：SC11433010613667\\n厂名：杭州绿颐茶业有限公司...</td>\n",
       "      <td>0</td>\n",
       "      <td>712880.0</td>\n",
       "    </tr>\n",
       "    <tr>\n",
       "      <th>4</th>\n",
       "      <td>2020年新茶杭州西湖泉牌龙井茶特级明前绿茶散装礼盒装茶叶500g</td>\n",
       "      <td>258.0</td>\n",
       "      <td>王氏雄风茶业</td>\n",
       "      <td>浙江杭州</td>\n",
       "      <td>8404</td>\n",
       "      <td>41590</td>\n",
       "      <td>17118.0</td>\n",
       "      <td>王氏雄风</td>\n",
       "      <td>西湖龙井</td>\n",
       "      <td>浙江省</td>\n",
       "      <td>杭州市</td>\n",
       "      <td>包装</td>\n",
       "      <td>罐装</td>\n",
       "      <td>500</td>\n",
       "      <td>生产许可证编号:SC11433010613667\\n厂名:杭州绿颐茶业有限公司\\n厂址:浙江...</td>\n",
       "      <td>1</td>\n",
       "      <td>2168232.0</td>\n",
       "    </tr>\n",
       "  </tbody>\n",
       "</table>\n",
       "</div>"
      ],
      "text/plain": [
       "                                  商品名   单价/元     店铺名称  店铺位置  商品月销  商品评论数  \\\n",
       "0      2020新茶上市八马茶叶明前龙井绿茶特级浙江龙井春茶125g  158.0    八马旗舰店  广东深圳   334    334   \n",
       "1   王氏雄风2020年新茶正宗西湖泉龙井茶特级明前绿茶散装茶叶500g  488.0   王氏雄风茶业  福建泉州  7642   7352   \n",
       "2  闽丹2020新茶正宗杭州西湖龙井茶叶特级明前雨前绿茶散礼盒装300g  368.0  闽丹茶叶旗舰店  浙江杭州  6677   6677   \n",
       "3  正山王2020新茶正宗明前浓香龙井茶叶500g西湖区绿茶高山龙井春茶  280.0   正山王旗舰店  福建泉州  2546   2546   \n",
       "4   2020年新茶杭州西湖泉牌龙井茶特级明前绿茶散装礼盒装茶叶500g  258.0   王氏雄风茶业  浙江杭州  8404  41590   \n",
       "\n",
       "      商品人气    品牌   茶种类   省份   城市 包装方式 包装种类  净含量  \\\n",
       "0    871.0    八马  浙江龙井  浙江省  杭州市   包装   罐装  125   \n",
       "1   6874.0  王氏雄风  西湖龙井  浙江省  杭州市   包装   罐装  500   \n",
       "2   6086.0    闽丹  西湖龙井  浙江省  杭州市   包装   罐装  300   \n",
       "3   3709.0   正山王  钱塘龙井  浙江省  杭州市   包装   罐装  500   \n",
       "4  17118.0  王氏雄风  西湖龙井  浙江省  杭州市   包装   罐装  500   \n",
       "\n",
       "                                                商品详情  原产地         收益  \n",
       "0  产品参数：\\n生产许可证编号：SC11433010613458\\n厂名：杭州正一心茶业有限公...    0    52772.0  \n",
       "1  生产许可证编号:SC11433010613667\\n厂名:杭州绿颐茶业有限公司\\n厂址:浙江...    0  3729296.0  \n",
       "2  产品参数：\\n生产许可证编号：SC11433010613667\\n厂名：杭州绿颐茶业有限公司...    1  2457136.0  \n",
       "3  产品参数：\\n生产许可证编号：SC11433010613667\\n厂名：杭州绿颐茶业有限公司...    0   712880.0  \n",
       "4  生产许可证编号:SC11433010613667\\n厂名:杭州绿颐茶业有限公司\\n厂址:浙江...    1  2168232.0  "
      ]
     },
     "execution_count": 3,
     "metadata": {},
     "output_type": "execute_result"
    }
   ],
   "source": [
    "dataset.head()"
   ]
  },
  {
   "cell_type": "code",
   "execution_count": 4,
   "metadata": {},
   "outputs": [],
   "source": [
    "dataset = dataset.drop(['商品名','店铺名称','商品详情','店铺位置','省份','城市'],axis=1)"
   ]
  },
  {
   "cell_type": "code",
   "execution_count": 5,
   "metadata": {},
   "outputs": [],
   "source": [
    "t = list(dataset['品牌'].unique())"
   ]
  },
  {
   "cell_type": "code",
   "execution_count": 6,
   "metadata": {},
   "outputs": [],
   "source": [
    "dataset = dataset.drop(['品牌'],axis=1)"
   ]
  },
  {
   "cell_type": "code",
   "execution_count": 7,
   "metadata": {},
   "outputs": [
    {
     "data": {
      "text/html": [
       "<div>\n",
       "<style scoped>\n",
       "    .dataframe tbody tr th:only-of-type {\n",
       "        vertical-align: middle;\n",
       "    }\n",
       "\n",
       "    .dataframe tbody tr th {\n",
       "        vertical-align: top;\n",
       "    }\n",
       "\n",
       "    .dataframe thead th {\n",
       "        text-align: right;\n",
       "    }\n",
       "</style>\n",
       "<table border=\"1\" class=\"dataframe\">\n",
       "  <thead>\n",
       "    <tr style=\"text-align: right;\">\n",
       "      <th></th>\n",
       "      <th>单价/元</th>\n",
       "      <th>商品月销</th>\n",
       "      <th>商品评论数</th>\n",
       "      <th>商品人气</th>\n",
       "      <th>茶种类</th>\n",
       "      <th>包装方式</th>\n",
       "      <th>包装种类</th>\n",
       "      <th>净含量</th>\n",
       "      <th>原产地</th>\n",
       "      <th>收益</th>\n",
       "    </tr>\n",
       "  </thead>\n",
       "  <tbody>\n",
       "    <tr>\n",
       "      <th>0</th>\n",
       "      <td>158.0</td>\n",
       "      <td>334</td>\n",
       "      <td>334</td>\n",
       "      <td>871.0</td>\n",
       "      <td>浙江龙井</td>\n",
       "      <td>包装</td>\n",
       "      <td>罐装</td>\n",
       "      <td>125</td>\n",
       "      <td>0</td>\n",
       "      <td>52772.0</td>\n",
       "    </tr>\n",
       "    <tr>\n",
       "      <th>1</th>\n",
       "      <td>488.0</td>\n",
       "      <td>7642</td>\n",
       "      <td>7352</td>\n",
       "      <td>6874.0</td>\n",
       "      <td>西湖龙井</td>\n",
       "      <td>包装</td>\n",
       "      <td>罐装</td>\n",
       "      <td>500</td>\n",
       "      <td>0</td>\n",
       "      <td>3729296.0</td>\n",
       "    </tr>\n",
       "    <tr>\n",
       "      <th>2</th>\n",
       "      <td>368.0</td>\n",
       "      <td>6677</td>\n",
       "      <td>6677</td>\n",
       "      <td>6086.0</td>\n",
       "      <td>西湖龙井</td>\n",
       "      <td>包装</td>\n",
       "      <td>罐装</td>\n",
       "      <td>300</td>\n",
       "      <td>1</td>\n",
       "      <td>2457136.0</td>\n",
       "    </tr>\n",
       "    <tr>\n",
       "      <th>3</th>\n",
       "      <td>280.0</td>\n",
       "      <td>2546</td>\n",
       "      <td>2546</td>\n",
       "      <td>3709.0</td>\n",
       "      <td>钱塘龙井</td>\n",
       "      <td>包装</td>\n",
       "      <td>罐装</td>\n",
       "      <td>500</td>\n",
       "      <td>0</td>\n",
       "      <td>712880.0</td>\n",
       "    </tr>\n",
       "    <tr>\n",
       "      <th>4</th>\n",
       "      <td>258.0</td>\n",
       "      <td>8404</td>\n",
       "      <td>41590</td>\n",
       "      <td>17118.0</td>\n",
       "      <td>西湖龙井</td>\n",
       "      <td>包装</td>\n",
       "      <td>罐装</td>\n",
       "      <td>500</td>\n",
       "      <td>1</td>\n",
       "      <td>2168232.0</td>\n",
       "    </tr>\n",
       "  </tbody>\n",
       "</table>\n",
       "</div>"
      ],
      "text/plain": [
       "    单价/元  商品月销  商品评论数     商品人气   茶种类 包装方式 包装种类  净含量  原产地         收益\n",
       "0  158.0   334    334    871.0  浙江龙井   包装   罐装  125    0    52772.0\n",
       "1  488.0  7642   7352   6874.0  西湖龙井   包装   罐装  500    0  3729296.0\n",
       "2  368.0  6677   6677   6086.0  西湖龙井   包装   罐装  300    1  2457136.0\n",
       "3  280.0  2546   2546   3709.0  钱塘龙井   包装   罐装  500    0   712880.0\n",
       "4  258.0  8404  41590  17118.0  西湖龙井   包装   罐装  500    1  2168232.0"
      ]
     },
     "execution_count": 7,
     "metadata": {},
     "output_type": "execute_result"
    }
   ],
   "source": [
    "dataset.head()"
   ]
  },
  {
   "cell_type": "code",
   "execution_count": 9,
   "metadata": {},
   "outputs": [
    {
     "name": "stdout",
     "output_type": "stream",
     "text": [
      "单价/元      int32\n",
      "商品月销      int64\n",
      "商品评论数     int64\n",
      "商品人气      int32\n",
      "茶种类      object\n",
      "包装方式     object\n",
      "包装种类     object\n",
      "净含量       int64\n",
      "原产地       int64\n",
      "收益        int32\n",
      "dtype: object\n"
     ]
    }
   ],
   "source": [
    "print(dataset.dtypes)"
   ]
  },
  {
   "cell_type": "code",
   "execution_count": 10,
   "metadata": {},
   "outputs": [
    {
     "data": {
      "text/plain": [
       "单价/元      0\n",
       "商品月销      0\n",
       "商品评论数     0\n",
       "商品人气      0\n",
       "茶种类       0\n",
       "包装方式      0\n",
       "包装种类     80\n",
       "净含量       0\n",
       "原产地       0\n",
       "收益        0\n",
       "dtype: int64"
      ]
     },
     "execution_count": 10,
     "metadata": {},
     "output_type": "execute_result"
    }
   ],
   "source": [
    "dataset.isin(['none']).sum()"
   ]
  },
  {
   "cell_type": "code",
   "execution_count": 11,
   "metadata": {},
   "outputs": [],
   "source": [
    "dataset.replace('none',0,inplace=True)"
   ]
  },
  {
   "cell_type": "code",
   "execution_count": 12,
   "metadata": {},
   "outputs": [
    {
     "data": {
      "text/plain": [
       "单价/元     0\n",
       "商品月销     0\n",
       "商品评论数    0\n",
       "商品人气     0\n",
       "茶种类      0\n",
       "包装方式     0\n",
       "包装种类     0\n",
       "净含量      0\n",
       "原产地      0\n",
       "收益       0\n",
       "dtype: int64"
      ]
     },
     "execution_count": 12,
     "metadata": {},
     "output_type": "execute_result"
    }
   ],
   "source": [
    "dataset.isin(['none']).sum()"
   ]
  },
  {
   "cell_type": "code",
   "execution_count": 13,
   "metadata": {},
   "outputs": [
    {
     "data": {
      "image/png": "[encoded data removed]",
      "text/plain": [
       "<Figure size 864x8640 with 6 Axes>"
      ]
     },
     "metadata": {},
     "output_type": "display_data"
    }
   ],
   "source": [
    "sns.set(font='SimHei')\n",
    "plt.rcParams['font.sans-serif'] = ['SimHei']\n",
    "plt.rcParams['axes.unicode_minus'] = False\n",
    "\n",
    "numeric_dtypes = ['int32','int64']\n",
    "numeric = []\n",
    "for i in dataset.columns:\n",
    "    if dataset[i].dtype in numeric_dtypes:\n",
    "        if i in ['收益']:\n",
    "            pass\n",
    "        else:\n",
    "            numeric.append(i)     \n",
    "# visualising some more outliers in the data values\n",
    "fig, axs = plt.subplots(ncols=2, nrows=0, figsize=(12, 120))\n",
    "plt.subplots_adjust(right=2)\n",
    "plt.subplots_adjust(top=2)\n",
    "sns.color_palette(\"husl\", 8)\n",
    "for i, feature in enumerate(list(dataset[numeric]), 1):\n",
    "    plt.subplot(len(list(numeric)), 3, i)\n",
    "    sns.scatterplot(x=feature, y='收益', hue='收益', palette='Blues', data=dataset)\n",
    "        \n",
    "    plt.xlabel('{}'.format(feature), size=15,labelpad=12.5)\n",
    "    plt.ylabel('收益', size=15, labelpad=12.5)\n",
    "    \n",
    "    for j in range(2):\n",
    "        plt.tick_params(axis='x', labelsize=12)\n",
    "        plt.tick_params(axis='y', labelsize=12)\n",
    "    \n",
    "    plt.legend(loc='best', prop={'size': 10})\n",
    "        \n",
    "plt.show()"
   ]
  },
  {
   "cell_type": "code",
   "execution_count": 14,
   "metadata": {},
   "outputs": [
    {
     "data": {
      "image/png": "[encoded data removed]",
      "text/plain": [
       "<Figure size 576x504 with 1 Axes>"
      ]
     },
     "metadata": {},
     "output_type": "display_data"
    }
   ],
   "source": [
    "sns.set_style(\"white\")\n",
    "sns.set_color_codes(palette='deep')\n",
    "f, ax = plt.subplots(figsize=(8, 7))\n",
    "#Check the new distribution \n",
    "sns.distplot(dataset['收益'], color=\"b\");\n",
    "ax.xaxis.grid(False)\n",
    "ax.set(ylabel=\"Frequency\")\n",
    "ax.set(xlabel=\"SalePrice\")\n",
    "ax.set(title=\"SalePrice distribution\")\n",
    "sns.despine(trim=True, left=True)\n",
    "plt.show()"
   ]
  },
  {
   "cell_type": "code",
   "execution_count": 15,
   "metadata": {},
   "outputs": [],
   "source": [
    "# log(1+x) transform\n",
    "dataset[\"收益\"] = np.log1p(dataset[\"收益\"])"
   ]
  },
  {
   "cell_type": "code",
   "execution_count": 16,
   "metadata": {},
   "outputs": [
    {
     "name": "stdout",
     "output_type": "stream",
     "text": [
      "\n",
      " mu = 9.95 and sigma = 2.31\n",
      "\n"
     ]
    },
    {
     "data": {
      "image/png": "[encoded data removed]",
      "text/plain": [
       "<Figure size 576x504 with 1 Axes>"
      ]
     },
     "metadata": {},
     "output_type": "display_data"
    }
   ],
   "source": [
    "sns.set_style(\"white\")\n",
    "sns.set_color_codes(palette='deep')\n",
    "f, ax = plt.subplots(figsize=(8, 7))\n",
    "#Check the new distribution \n",
    "sns.distplot(dataset['收益'] , fit=norm, color=\"b\");\n",
    "\n",
    "# Get the fitted parameters used by the function\n",
    "(mu, sigma) = norm.fit(dataset['收益'])\n",
    "print( '\\n mu = {:.2f} and sigma = {:.2f}\\n'.format(mu, sigma))\n",
    "\n",
    "#Now plot the distribution\n",
    "plt.legend(['Normal dist. ($\\mu=$ {:.2f} and $\\sigma=$ {:.2f} )'.format(mu, sigma)],\n",
    "            loc='best')\n",
    "ax.xaxis.grid(False)\n",
    "ax.set(ylabel=\"Frequency\")\n",
    "ax.set(xlabel=\"SalePrice\")\n",
    "ax.set(title=\"SalePrice distribution\")\n",
    "sns.despine(trim=True, left=True)\n",
    "\n",
    "plt.show()"
   ]
  },
  {
   "cell_type": "code",
   "execution_count": 17,
   "metadata": {},
   "outputs": [
    {
     "name": "stdout",
     "output_type": "stream",
     "text": [
      "['浙江龙井', '西湖龙井', '钱塘龙井', '大佛龙井', '安吉白茶', '越州龙井', '开化龙顶', '金骏眉', '铁观音', '正山小种', '大红袍', '碧螺春', '雀舌', '太平猴魁', '祁门红茶', '黄山毛峰', '六安瓜片', '苦丁茶', '峨眉山茶', '峨眉毛峰', '蒙顶甘露', '蒙顶毛峰', '茉莉花', '蒙顶石花', '普洱熟茶', '普洱生茶', '滇红']   ['包装', '散装', '食用农产品', '袋装']   ['罐装', '散装', '礼盒装', '袋装', 0, '盒装', '常规棉纸包装', '竹笋壳装']\n",
      "      茶种类\n",
      "碧螺春   195\n",
      "普洱熟茶  135\n",
      "雀舌    116\n",
      "铁观音   108\n",
      "黄山毛峰   96\n",
      "安吉白茶   94\n",
      "普洱生茶   63\n",
      "西湖龙井   58\n",
      "太平猴魁   52\n",
      "金骏眉    45\n",
      "祁门红茶   43\n",
      "正山小种   42\n",
      "蒙顶甘露   26\n",
      "钱塘龙井   25\n",
      "蒙顶毛峰   21\n",
      "浙江龙井   19\n",
      "苦丁茶    13\n",
      "峨眉毛峰   13\n",
      "茉莉花    12\n",
      "六安瓜片   10\n",
      "大红袍     5\n",
      "滇红      2\n",
      "越州龙井    2\n",
      "蒙顶石花    2\n",
      "峨眉山茶    2\n",
      "大佛龙井    1\n",
      "开化龙顶    1          包装方式\n",
      "包装      717\n",
      "食用农产品   311\n",
      "袋装      101\n",
      "散装       72           包装种类\n",
      "罐装       327\n",
      "礼盒装      306\n",
      "散装       161\n",
      "袋装       126\n",
      "盒装       104\n",
      "0         80\n",
      "常规棉纸包装    69\n",
      "竹笋壳装      28\n"
     ]
    }
   ],
   "source": [
    "s1 = list(dataset['茶种类'].unique())\n",
    "s2 = list(dataset['包装方式'].unique())\n",
    "s3 = list(dataset['包装种类'].unique())\n",
    "print(s1,\" \",s2,\" \",s3)\n",
    "x1 = pd.DataFrame(dataset['茶种类'].value_counts())\n",
    "x2 = pd.DataFrame(dataset['包装方式'].value_counts())\n",
    "x3 = pd.DataFrame(dataset['包装种类'].value_counts())\n",
    "print(x1,' ',x2,' ',x3)"
   ]
  },
  {
   "cell_type": "code",
   "execution_count": 18,
   "metadata": {},
   "outputs": [],
   "source": [
    "dataset['茶种类'] = dataset['茶种类'].map({'浙江龙井':0, '西湖龙井':1, '钱塘龙井':2, '大佛龙井':3, '安吉白茶':4, '越州龙井':5, '开化龙顶':6, '金骏眉':7, '铁观音':8, '正山小种':9, '大红袍':10, '碧螺春':11, '雀舌':12, '太平猴魁':13, '祁门红茶':14, '黄山毛峰':15, '六安瓜片':16, '苦丁茶':17, '峨眉山茶':18, '峨眉毛峰':19, '蒙顶甘露':20, '蒙顶毛峰':21, '茉莉花':22, '蒙顶石花':23, '普洱熟茶':24, '普洱生茶':25, '滇红':26})\n",
    "dataset['包装方式'] = dataset['包装方式'].map({'包装':0, '散装':1, '食用农产品':2, '袋装':3})\n",
    "dataset['包装种类'] = dataset['包装种类'].map({'罐装':1, '散装':2, '礼盒装':3, '袋装':4, '盒装':5, '常规棉纸包装':6, '竹笋壳装':7})"
   ]
  },
  {
   "cell_type": "code",
   "execution_count": 19,
   "metadata": {},
   "outputs": [
    {
     "data": {
      "text/plain": [
       "<matplotlib.axes._subplots.AxesSubplot at 0x1d27c8c0b88>"
      ]
     },
     "execution_count": 19,
     "metadata": {},
     "output_type": "execute_result"
    },
    {
     "data": {
      "image/png": "[encoded data removed]",
      "text/plain": [
       "<Figure size 1080x864 with 2 Axes>"
      ]
     },
     "metadata": {},
     "output_type": "display_data"
    }
   ],
   "source": [
    "sns.set(font='SimHei')\n",
    "plt.rcParams['font.sans-serif'] = ['SimHei']\n",
    "plt.rcParams['axes.unicode_minus'] = False\n",
    "\n",
    "corr = dataset.corr()\n",
    "plt.subplots(figsize=(15,12))\n",
    "sns.heatmap(corr, vmax=0.9, cmap=\"Blues\", square=True)"
   ]
  },
  {
   "cell_type": "code",
   "execution_count": 20,
   "metadata": {},
   "outputs": [],
   "source": [
    "ss = MinMaxScaler()\n",
    "scale_features = ['单价/元','商品月销','商品评论数','商品人气','茶种类','包装方式','包装种类','净含量','原产地']\n",
    "dataset[scale_features] = ss.fit_transform(dataset[scale_features])"
   ]
  },
  {
   "cell_type": "code",
   "execution_count": 21,
   "metadata": {},
   "outputs": [
    {
     "data": {
      "text/html": [
       "<div>\n",
       "<style scoped>\n",
       "    .dataframe tbody tr th:only-of-type {\n",
       "        vertical-align: middle;\n",
       "    }\n",
       "\n",
       "    .dataframe tbody tr th {\n",
       "        vertical-align: top;\n",
       "    }\n",
       "\n",
       "    .dataframe thead th {\n",
       "        text-align: right;\n",
       "    }\n",
       "</style>\n",
       "<table border=\"1\" class=\"dataframe\">\n",
       "  <thead>\n",
       "    <tr style=\"text-align: right;\">\n",
       "      <th></th>\n",
       "      <th>单价/元</th>\n",
       "      <th>商品月销</th>\n",
       "      <th>商品评论数</th>\n",
       "      <th>商品人气</th>\n",
       "      <th>茶种类</th>\n",
       "      <th>包装方式</th>\n",
       "      <th>包装种类</th>\n",
       "      <th>净含量</th>\n",
       "      <th>原产地</th>\n",
       "      <th>收益</th>\n",
       "    </tr>\n",
       "  </thead>\n",
       "  <tbody>\n",
       "    <tr>\n",
       "      <th>0</th>\n",
       "      <td>0.038412</td>\n",
       "      <td>0.003853</td>\n",
       "      <td>0.000999</td>\n",
       "      <td>0.003239</td>\n",
       "      <td>0.000000</td>\n",
       "      <td>0.0</td>\n",
       "      <td>0.0</td>\n",
       "      <td>0.007675</td>\n",
       "      <td>0.0</td>\n",
       "      <td>10.873755</td>\n",
       "    </tr>\n",
       "    <tr>\n",
       "      <th>1</th>\n",
       "      <td>0.123485</td>\n",
       "      <td>0.088157</td>\n",
       "      <td>0.021998</td>\n",
       "      <td>0.025585</td>\n",
       "      <td>0.038462</td>\n",
       "      <td>0.0</td>\n",
       "      <td>0.0</td>\n",
       "      <td>0.032702</td>\n",
       "      <td>0.0</td>\n",
       "      <td>15.131730</td>\n",
       "    </tr>\n",
       "    <tr>\n",
       "      <th>2</th>\n",
       "      <td>0.092550</td>\n",
       "      <td>0.077025</td>\n",
       "      <td>0.019978</td>\n",
       "      <td>0.022652</td>\n",
       "      <td>0.038462</td>\n",
       "      <td>0.0</td>\n",
       "      <td>0.0</td>\n",
       "      <td>0.019354</td>\n",
       "      <td>0.5</td>\n",
       "      <td>14.714507</td>\n",
       "    </tr>\n",
       "    <tr>\n",
       "      <th>3</th>\n",
       "      <td>0.069863</td>\n",
       "      <td>0.029370</td>\n",
       "      <td>0.007618</td>\n",
       "      <td>0.013803</td>\n",
       "      <td>0.076923</td>\n",
       "      <td>0.0</td>\n",
       "      <td>0.0</td>\n",
       "      <td>0.032702</td>\n",
       "      <td>0.0</td>\n",
       "      <td>13.477070</td>\n",
       "    </tr>\n",
       "    <tr>\n",
       "      <th>4</th>\n",
       "      <td>0.064192</td>\n",
       "      <td>0.096948</td>\n",
       "      <td>0.124443</td>\n",
       "      <td>0.063719</td>\n",
       "      <td>0.038462</td>\n",
       "      <td>0.0</td>\n",
       "      <td>0.0</td>\n",
       "      <td>0.032702</td>\n",
       "      <td>0.5</td>\n",
       "      <td>14.589423</td>\n",
       "    </tr>\n",
       "  </tbody>\n",
       "</table>\n",
       "</div>"
      ],
      "text/plain": [
       "       单价/元      商品月销     商品评论数      商品人气       茶种类  包装方式  包装种类       净含量  \\\n",
       "0  0.038412  0.003853  0.000999  0.003239  0.000000   0.0   0.0  0.007675   \n",
       "1  0.123485  0.088157  0.021998  0.025585  0.038462   0.0   0.0  0.032702   \n",
       "2  0.092550  0.077025  0.019978  0.022652  0.038462   0.0   0.0  0.019354   \n",
       "3  0.069863  0.029370  0.007618  0.013803  0.076923   0.0   0.0  0.032702   \n",
       "4  0.064192  0.096948  0.124443  0.063719  0.038462   0.0   0.0  0.032702   \n",
       "\n",
       "   原产地         收益  \n",
       "0  0.0  10.873755  \n",
       "1  0.0  15.131730  \n",
       "2  0.5  14.714507  \n",
       "3  0.0  13.477070  \n",
       "4  0.5  14.589423  "
      ]
     },
     "execution_count": 21,
     "metadata": {},
     "output_type": "execute_result"
    }
   ],
   "source": [
    "dataset.head()"
   ]
  },
  {
   "cell_type": "code",
   "execution_count": 22,
   "metadata": {},
   "outputs": [],
   "source": [
    "dataset.columns = ['price','month-sale','comments','collect','types','wrape-way','wrape-kind','weight','locate','income']"
   ]
  },
  {
   "cell_type": "code",
   "execution_count": 23,
   "metadata": {},
   "outputs": [
    {
     "data": {
      "text/html": [
       "<div>\n",
       "<style scoped>\n",
       "    .dataframe tbody tr th:only-of-type {\n",
       "        vertical-align: middle;\n",
       "    }\n",
       "\n",
       "    .dataframe tbody tr th {\n",
       "        vertical-align: top;\n",
       "    }\n",
       "\n",
       "    .dataframe thead th {\n",
       "        text-align: right;\n",
       "    }\n",
       "</style>\n",
       "<table border=\"1\" class=\"dataframe\">\n",
       "  <thead>\n",
       "    <tr style=\"text-align: right;\">\n",
       "      <th></th>\n",
       "      <th>price</th>\n",
       "      <th>month-sale</th>\n",
       "      <th>comments</th>\n",
       "      <th>collect</th>\n",
       "      <th>types</th>\n",
       "      <th>wrape-way</th>\n",
       "      <th>wrape-kind</th>\n",
       "      <th>weight</th>\n",
       "      <th>locate</th>\n",
       "      <th>income</th>\n",
       "    </tr>\n",
       "  </thead>\n",
       "  <tbody>\n",
       "    <tr>\n",
       "      <th>0</th>\n",
       "      <td>0.038412</td>\n",
       "      <td>0.003853</td>\n",
       "      <td>0.000999</td>\n",
       "      <td>0.003239</td>\n",
       "      <td>0.000000</td>\n",
       "      <td>0.0</td>\n",
       "      <td>0.0</td>\n",
       "      <td>0.007675</td>\n",
       "      <td>0.0</td>\n",
       "      <td>10.873755</td>\n",
       "    </tr>\n",
       "    <tr>\n",
       "      <th>1</th>\n",
       "      <td>0.123485</td>\n",
       "      <td>0.088157</td>\n",
       "      <td>0.021998</td>\n",
       "      <td>0.025585</td>\n",
       "      <td>0.038462</td>\n",
       "      <td>0.0</td>\n",
       "      <td>0.0</td>\n",
       "      <td>0.032702</td>\n",
       "      <td>0.0</td>\n",
       "      <td>15.131730</td>\n",
       "    </tr>\n",
       "    <tr>\n",
       "      <th>2</th>\n",
       "      <td>0.092550</td>\n",
       "      <td>0.077025</td>\n",
       "      <td>0.019978</td>\n",
       "      <td>0.022652</td>\n",
       "      <td>0.038462</td>\n",
       "      <td>0.0</td>\n",
       "      <td>0.0</td>\n",
       "      <td>0.019354</td>\n",
       "      <td>0.5</td>\n",
       "      <td>14.714507</td>\n",
       "    </tr>\n",
       "    <tr>\n",
       "      <th>3</th>\n",
       "      <td>0.069863</td>\n",
       "      <td>0.029370</td>\n",
       "      <td>0.007618</td>\n",
       "      <td>0.013803</td>\n",
       "      <td>0.076923</td>\n",
       "      <td>0.0</td>\n",
       "      <td>0.0</td>\n",
       "      <td>0.032702</td>\n",
       "      <td>0.0</td>\n",
       "      <td>13.477070</td>\n",
       "    </tr>\n",
       "    <tr>\n",
       "      <th>4</th>\n",
       "      <td>0.064192</td>\n",
       "      <td>0.096948</td>\n",
       "      <td>0.124443</td>\n",
       "      <td>0.063719</td>\n",
       "      <td>0.038462</td>\n",
       "      <td>0.0</td>\n",
       "      <td>0.0</td>\n",
       "      <td>0.032702</td>\n",
       "      <td>0.5</td>\n",
       "      <td>14.589423</td>\n",
       "    </tr>\n",
       "  </tbody>\n",
       "</table>\n",
       "</div>"
      ],
      "text/plain": [
       "      price  month-sale  comments   collect     types  wrape-way  wrape-kind  \\\n",
       "0  0.038412    0.003853  0.000999  0.003239  0.000000        0.0         0.0   \n",
       "1  0.123485    0.088157  0.021998  0.025585  0.038462        0.0         0.0   \n",
       "2  0.092550    0.077025  0.019978  0.022652  0.038462        0.0         0.0   \n",
       "3  0.069863    0.029370  0.007618  0.013803  0.076923        0.0         0.0   \n",
       "4  0.064192    0.096948  0.124443  0.063719  0.038462        0.0         0.0   \n",
       "\n",
       "     weight  locate     income  \n",
       "0  0.007675     0.0  10.873755  \n",
       "1  0.032702     0.0  15.131730  \n",
       "2  0.019354     0.5  14.714507  \n",
       "3  0.032702     0.0  13.477070  \n",
       "4  0.032702     0.5  14.589423  "
      ]
     },
     "execution_count": 23,
     "metadata": {},
     "output_type": "execute_result"
    }
   ],
   "source": [
    "dataset.head()"
   ]
  },
  {
   "cell_type": "code",
   "execution_count": 45,
   "metadata": {},
   "outputs": [],
   "source": [
    "x = dataset.iloc[:,0:-1]\n",
    "y = dataset.iloc[:,-1]\n",
    "x_train,x_test,y_train,y_test=train_test_split(x,y,test_size=0.2,shuffle=True)"
   ]
  },
  {
   "cell_type": "code",
   "execution_count": 46,
   "metadata": {},
   "outputs": [],
   "source": [
    "# Setup cross validation folds\n",
    "kf = KFold(n_splits=12, random_state=42, shuffle=True)"
   ]
  },
  {
   "cell_type": "code",
   "execution_count": 47,
   "metadata": {},
   "outputs": [],
   "source": [
    "# Define error metrics\n",
    "def rmsle(y, y_pred):\n",
    "    return np.sqrt(mean_squared_error(y, y_pred))\n",
    "\n",
    "\n",
    "def cv_rmse(model, X=x_train):\n",
    "    rmse = np.sqrt(-cross_val_score(model, X, y_train,\n",
    "                                    scoring=\"neg_mean_squared_error\", cv=kf))\n",
    "    return (rmse)"
   ]
  },
  {
   "cell_type": "code",
   "execution_count": 48,
   "metadata": {},
   "outputs": [],
   "source": [
    "# Light Gradient Boosting Regressor\n",
    "lightgbm = LGBMRegressor(objective='regression', \n",
    "                       num_leaves=6,\n",
    "                       learning_rate=0.01, \n",
    "                       n_estimators=7000,\n",
    "                       max_bin=200, \n",
    "                       bagging_fraction=0.8,\n",
    "                       bagging_freq=4, \n",
    "                       bagging_seed=8,\n",
    "                       feature_fraction=0.2,\n",
    "                       feature_fraction_seed=8,\n",
    "                       min_sum_hessian_in_leaf = 11,\n",
    "                       verbose=-1,\n",
    "                       random_state=42)\n",
    "\n",
    "# XGBoost Regressor\n",
    "xgboost = XGBRegressor(learning_rate=0.01,\n",
    "                       n_estimators=6000,\n",
    "                       max_depth=4,\n",
    "                       min_child_weight=0,\n",
    "                       gamma=0.6,\n",
    "                       subsample=0.7,\n",
    "                       colsample_bytree=0.7,\n",
    "                       objective='reg:linear',\n",
    "                       nthread=-1,\n",
    "                       scale_pos_weight=1,\n",
    "                       seed=27,\n",
    "                       reg_alpha=0.00006,\n",
    "                       random_state=42)\n",
    "\n",
    "# Ridge Regressor\n",
    "ridge_alphas = [1e-15, 1e-10, 1e-8, 9e-4, 7e-4, 5e-4, 3e-4, 1e-4, 1e-3, 5e-2, 1e-2, 0.1, 0.3, 1, 3, 5, 10, 15, 18, 20, 30, 50, 75, 100]\n",
    "ridge = make_pipeline(RobustScaler(), RidgeCV(alphas=ridge_alphas, cv=kf))\n",
    "\n",
    "# Support Vector Regressor\n",
    "svr = make_pipeline(RobustScaler(), SVR(C= 20, epsilon= 0.008, gamma=0.0003))\n",
    "\n",
    "# Gradient Boosting Regressor\n",
    "gbr = GradientBoostingRegressor(n_estimators=6000,\n",
    "                                learning_rate=0.01,\n",
    "                                max_depth=4,\n",
    "                                max_features='sqrt',\n",
    "                                min_samples_leaf=15,\n",
    "                                min_samples_split=10,\n",
    "                                loss='huber',\n",
    "                                random_state=42)  \n",
    "\n",
    "# Random Forest Regressor\n",
    "rf = RandomForestRegressor(n_estimators=1200,\n",
    "                          max_depth=15,\n",
    "                          min_samples_split=5,\n",
    "                          min_samples_leaf=5,\n",
    "                          max_features=None,\n",
    "                          oob_score=True,\n",
    "                          random_state=42)\n",
    "\n",
    "# Stack up all the models above, optimized using xgboost\n",
    "stack_gen = StackingCVRegressor(regressors=(xgboost, lightgbm, svr, ridge, gbr, rf),\n",
    "                                meta_regressor=xgboost,\n",
    "                                use_features_in_secondary=True)"
   ]
  },
  {
   "cell_type": "code",
   "execution_count": 28,
   "metadata": {},
   "outputs": [
    {
     "name": "stdout",
     "output_type": "stream",
     "text": [
      "lightgbm: 0.3097 (0.1266)\n"
     ]
    }
   ],
   "source": [
    "scores = {}\n",
    "\n",
    "score = cv_rmse(lightgbm)\n",
    "print(\"lightgbm: {:.4f} ({:.4f})\".format(score.mean(), score.std()))\n",
    "scores['lgb'] = (score.mean(), score.std())"
   ]
  },
  {
   "cell_type": "code",
   "execution_count": 29,
   "metadata": {},
   "outputs": [
    {
     "data": {
      "image/png": "[encoded data removed]",
      "text/plain": [
       "<Figure size 432x288 with 1 Axes>"
      ]
     },
     "metadata": {},
     "output_type": "display_data"
    }
   ],
   "source": [
    "lightgbm.fit(x,y)\n",
    "lgb.plot_importance(lightgbm)\n",
    "plt.show()"
   ]
  },
  {
   "cell_type": "code",
   "execution_count": 30,
   "metadata": {},
   "outputs": [
    {
     "name": "stdout",
     "output_type": "stream",
     "text": [
      "[17:33:42] WARNING: src/objective/regression_obj.cu:152: reg:linear is now deprecated in favor of reg:squarederror.\n",
      "[17:33:48] WARNING: src/objective/regression_obj.cu:152: reg:linear is now deprecated in favor of reg:squarederror.\n",
      "[17:33:54] WARNING: src/objective/regression_obj.cu:152: reg:linear is now deprecated in favor of reg:squarederror.\n",
      "[17:34:00] WARNING: src/objective/regression_obj.cu:152: reg:linear is now deprecated in favor of reg:squarederror.\n",
      "[17:34:07] WARNING: src/objective/regression_obj.cu:152: reg:linear is now deprecated in favor of reg:squarederror.\n",
      "[17:34:13] WARNING: src/objective/regression_obj.cu:152: reg:linear is now deprecated in favor of reg:squarederror.\n",
      "[17:34:19] WARNING: src/objective/regression_obj.cu:152: reg:linear is now deprecated in favor of reg:squarederror.\n",
      "[17:34:25] WARNING: src/objective/regression_obj.cu:152: reg:linear is now deprecated in favor of reg:squarederror.\n",
      "[17:34:31] WARNING: src/objective/regression_obj.cu:152: reg:linear is now deprecated in favor of reg:squarederror.\n",
      "[17:34:37] WARNING: src/objective/regression_obj.cu:152: reg:linear is now deprecated in favor of reg:squarederror.\n",
      "[17:34:43] WARNING: src/objective/regression_obj.cu:152: reg:linear is now deprecated in favor of reg:squarederror.\n",
      "[17:34:49] WARNING: src/objective/regression_obj.cu:152: reg:linear is now deprecated in favor of reg:squarederror.\n",
      "xgboost: 0.2308 (0.0517)\n"
     ]
    }
   ],
   "source": [
    "score = cv_rmse(xgboost)\n",
    "print(\"xgboost: {:.4f} ({:.4f})\".format(score.mean(), score.std()))\n",
    "scores['xgb'] = (score.mean(), score.std())"
   ]
  },
  {
   "cell_type": "code",
   "execution_count": 31,
   "metadata": {},
   "outputs": [
    {
     "name": "stdout",
     "output_type": "stream",
     "text": [
      "[17:35:05] WARNING: src/objective/regression_obj.cu:152: reg:linear is now deprecated in favor of reg:squarederror.\n"
     ]
    },
    {
     "data": {
      "image/png": "[encoded data removed]",
      "text/plain": [
       "<Figure size 432x288 with 1 Axes>"
      ]
     },
     "metadata": {},
     "output_type": "display_data"
    }
   ],
   "source": [
    "xgboost.fit(x,y)\n",
    "xgb.plot_importance(xgboost)\n",
    "plt.show()"
   ]
  },
  {
   "cell_type": "code",
   "execution_count": 51,
   "metadata": {},
   "outputs": [
    {
     "name": "stdout",
     "output_type": "stream",
     "text": [
      "lightgbm\n"
     ]
    }
   ],
   "source": [
    "print('lightgbm')\n",
    "lgb_model_full_data = lightgbm.fit(x_train, y_train)"
   ]
  },
  {
   "cell_type": "code",
   "execution_count": 52,
   "metadata": {},
   "outputs": [
    {
     "name": "stdout",
     "output_type": "stream",
     "text": [
      "xgboost\n",
      "[15:36:04] WARNING: src/objective/regression_obj.cu:152: reg:linear is now deprecated in favor of reg:squarederror.\n"
     ]
    }
   ],
   "source": [
    "print('xgboost')\n",
    "xgb_model_full_data = xgboost.fit(x_train, y_train)"
   ]
  },
  {
   "cell_type": "code",
   "execution_count": 53,
   "metadata": {},
   "outputs": [],
   "source": [
    "# Blend models in order to make the final predictions more robust to overfitting\n",
    "def blended_predictions(X):\n",
    "    return ((0.5 * xgb_model_full_data.predict(X)) + \\\n",
    "            (0.5 * lgb_model_full_data.predict(X)))"
   ]
  },
  {
   "cell_type": "code",
   "execution_count": 56,
   "metadata": {},
   "outputs": [
    {
     "name": "stdout",
     "output_type": "stream",
     "text": [
      "RMSLE score on train data:\n",
      "0.12863758605387013\n"
     ]
    }
   ],
   "source": [
    "# Get final precitions from the blended model\n",
    "blended_score = rmsle(y_train, blended_predictions(x_train))\n",
    "scores['blended'] = (blended_score, 0)\n",
    "print('RMSLE score on train data:')\n",
    "print(blended_score)"
   ]
  },
  {
   "cell_type": "code",
   "execution_count": null,
   "metadata": {},
   "outputs": [],
   "source": []
  },
  {
   "cell_type": "code",
   "execution_count": 67,
   "metadata": {},
   "outputs": [],
   "source": [
    "data_yun = pd.read_excel('云南品种茶(1).xls')"
   ]
  },
  {
   "cell_type": "code",
   "execution_count": 68,
   "metadata": {},
   "outputs": [
    {
     "data": {
      "text/html": [
       "<div>\n",
       "<style scoped>\n",
       "    .dataframe tbody tr th:only-of-type {\n",
       "        vertical-align: middle;\n",
       "    }\n",
       "\n",
       "    .dataframe tbody tr th {\n",
       "        vertical-align: top;\n",
       "    }\n",
       "\n",
       "    .dataframe thead th {\n",
       "        text-align: right;\n",
       "    }\n",
       "</style>\n",
       "<table border=\"1\" class=\"dataframe\">\n",
       "  <thead>\n",
       "    <tr style=\"text-align: right;\">\n",
       "      <th></th>\n",
       "      <th>商品名</th>\n",
       "      <th>单价/元</th>\n",
       "      <th>店铺名称</th>\n",
       "      <th>店铺位置</th>\n",
       "      <th>商品月销</th>\n",
       "      <th>商品评论数</th>\n",
       "      <th>商品人气</th>\n",
       "      <th>原产地</th>\n",
       "      <th>商品详情</th>\n",
       "      <th>包装方式</th>\n",
       "      <th>包装种类</th>\n",
       "      <th>形状</th>\n",
       "      <th>净含量</th>\n",
       "      <th>茶种类</th>\n",
       "      <th>收益</th>\n",
       "    </tr>\n",
       "  </thead>\n",
       "  <tbody>\n",
       "    <tr>\n",
       "      <th>0</th>\n",
       "      <td>大益茶叶 普洱茶熟茶经典系列8592熟饼357g（1601）云南勐海</td>\n",
       "      <td>118.0</td>\n",
       "      <td>大益茶叶旗舰店</td>\n",
       "      <td>云南 昆明</td>\n",
       "      <td>94</td>\n",
       "      <td>5</td>\n",
       "      <td>117</td>\n",
       "      <td>2</td>\n",
       "      <td>产品参数：\\n生产许可证编号：SC11453282228141\\n厂名：勐海茶厂（普通合伙）...</td>\n",
       "      <td>包装</td>\n",
       "      <td>常规棉纸包装</td>\n",
       "      <td>饼茶</td>\n",
       "      <td>357</td>\n",
       "      <td>普洱茶熟茶</td>\n",
       "      <td>11092.0</td>\n",
       "    </tr>\n",
       "    <tr>\n",
       "      <th>1</th>\n",
       "      <td>大益茶叶 普洱茶熟茶 8592经典七子饼茶 357g1301批 云南勐海</td>\n",
       "      <td>148.0</td>\n",
       "      <td>大益茶叶旗舰店</td>\n",
       "      <td>云南 昆明</td>\n",
       "      <td>94</td>\n",
       "      <td>7</td>\n",
       "      <td>224</td>\n",
       "      <td>2</td>\n",
       "      <td>产品参数：\\n生产许可证编号：SC11453282228141\\n产品标准号：GB/T221...</td>\n",
       "      <td>包装</td>\n",
       "      <td>常规棉纸包装</td>\n",
       "      <td>饼茶</td>\n",
       "      <td>357</td>\n",
       "      <td>普洱茶熟茶</td>\n",
       "      <td>13912.0</td>\n",
       "    </tr>\n",
       "    <tr>\n",
       "      <th>2</th>\n",
       "      <td>丽皇香云南普洱茶老茶头普洱熟茶饼老班章古树金芽茶叶礼盒装500g</td>\n",
       "      <td>148.0</td>\n",
       "      <td>丽皇香旗舰店</td>\n",
       "      <td>福建 泉州</td>\n",
       "      <td>298</td>\n",
       "      <td>55741</td>\n",
       "      <td>86895</td>\n",
       "      <td>0</td>\n",
       "      <td>产品参数：\\n生产许可证编号：SC11453080204639\\n厂名：普洱林老根古树茶厂\\...</td>\n",
       "      <td>包装</td>\n",
       "      <td>礼盒装</td>\n",
       "      <td>沱茶</td>\n",
       "      <td>500</td>\n",
       "      <td>普洱茶熟茶</td>\n",
       "      <td>44104.0</td>\n",
       "    </tr>\n",
       "    <tr>\n",
       "      <th>3</th>\n",
       "      <td>八马茶叶 云南原产信记号普洱茶大叶种晒青茶普洱熟茶饼茶357g</td>\n",
       "      <td>560.0</td>\n",
       "      <td>八马旗舰店</td>\n",
       "      <td>广东 深圳</td>\n",
       "      <td>280</td>\n",
       "      <td>1</td>\n",
       "      <td>4</td>\n",
       "      <td>0</td>\n",
       "      <td>产品参数：\\n生产许可证编号：SC11453282248570\\n厂名：勐海县杨聘号茶叶有限...</td>\n",
       "      <td>包装</td>\n",
       "      <td>盒装</td>\n",
       "      <td>饼茶</td>\n",
       "      <td>357</td>\n",
       "      <td>普洱茶熟茶</td>\n",
       "      <td>156800.0</td>\n",
       "    </tr>\n",
       "    <tr>\n",
       "      <th>4</th>\n",
       "      <td>7饼整提划算2499g 老班章普洱茶熟茶饼茶 云南七子饼茶叶海纳祥和</td>\n",
       "      <td>398.0</td>\n",
       "      <td>海纳祥和旗舰店</td>\n",
       "      <td>云南 西双版纳</td>\n",
       "      <td>400</td>\n",
       "      <td>406</td>\n",
       "      <td>736</td>\n",
       "      <td>2</td>\n",
       "      <td>产品参数：\\n生产许可证编号：SC11453080216131\\n厂名：普洱市金典茶业有限公...</td>\n",
       "      <td>包装</td>\n",
       "      <td>常规棉纸包装</td>\n",
       "      <td>饼茶</td>\n",
       "      <td>2499</td>\n",
       "      <td>普洱茶熟茶</td>\n",
       "      <td>159200.0</td>\n",
       "    </tr>\n",
       "  </tbody>\n",
       "</table>\n",
       "</div>"
      ],
      "text/plain": [
       "                                    商品名   单价/元     店铺名称     店铺位置  商品月销  商品评论数  \\\n",
       "0    大益茶叶 普洱茶熟茶经典系列8592熟饼357g（1601）云南勐海  118.0  大益茶叶旗舰店    云南 昆明    94      5   \n",
       "1  大益茶叶 普洱茶熟茶 8592经典七子饼茶 357g1301批 云南勐海  148.0  大益茶叶旗舰店    云南 昆明    94      7   \n",
       "2      丽皇香云南普洱茶老茶头普洱熟茶饼老班章古树金芽茶叶礼盒装500g  148.0   丽皇香旗舰店    福建 泉州   298  55741   \n",
       "3       八马茶叶 云南原产信记号普洱茶大叶种晒青茶普洱熟茶饼茶357g  560.0    八马旗舰店    广东 深圳   280      1   \n",
       "4    7饼整提划算2499g 老班章普洱茶熟茶饼茶 云南七子饼茶叶海纳祥和  398.0  海纳祥和旗舰店  云南 西双版纳   400    406   \n",
       "\n",
       "    商品人气  原产地                                               商品详情 包装方式    包装种类  \\\n",
       "0    117    2  产品参数：\\n生产许可证编号：SC11453282228141\\n厂名：勐海茶厂（普通合伙）...   包装  常规棉纸包装   \n",
       "1    224    2  产品参数：\\n生产许可证编号：SC11453282228141\\n产品标准号：GB/T221...   包装  常规棉纸包装   \n",
       "2  86895    0  产品参数：\\n生产许可证编号：SC11453080204639\\n厂名：普洱林老根古树茶厂\\...   包装     礼盒装   \n",
       "3      4    0  产品参数：\\n生产许可证编号：SC11453282248570\\n厂名：勐海县杨聘号茶叶有限...   包装      盒装   \n",
       "4    736    2  产品参数：\\n生产许可证编号：SC11453080216131\\n厂名：普洱市金典茶业有限公...   包装  常规棉纸包装   \n",
       "\n",
       "   形状   净含量    茶种类        收益  \n",
       "0  饼茶   357  普洱茶熟茶   11092.0  \n",
       "1  饼茶   357  普洱茶熟茶   13912.0  \n",
       "2  沱茶   500  普洱茶熟茶   44104.0  \n",
       "3  饼茶   357  普洱茶熟茶  156800.0  \n",
       "4  饼茶  2499  普洱茶熟茶  159200.0  "
      ]
     },
     "execution_count": 68,
     "metadata": {},
     "output_type": "execute_result"
    }
   ],
   "source": [
    "data_yun.head()"
   ]
  },
  {
   "cell_type": "code",
   "execution_count": 69,
   "metadata": {},
   "outputs": [],
   "source": [
    "data_yun = data_yun.drop(['商品名','店铺名称','商品详情'],axis=1)"
   ]
  },
  {
   "cell_type": "code",
   "execution_count": 70,
   "metadata": {},
   "outputs": [
    {
     "data": {
      "text/html": [
       "<div>\n",
       "<style scoped>\n",
       "    .dataframe tbody tr th:only-of-type {\n",
       "        vertical-align: middle;\n",
       "    }\n",
       "\n",
       "    .dataframe tbody tr th {\n",
       "        vertical-align: top;\n",
       "    }\n",
       "\n",
       "    .dataframe thead th {\n",
       "        text-align: right;\n",
       "    }\n",
       "</style>\n",
       "<table border=\"1\" class=\"dataframe\">\n",
       "  <thead>\n",
       "    <tr style=\"text-align: right;\">\n",
       "      <th></th>\n",
       "      <th>单价/元</th>\n",
       "      <th>店铺位置</th>\n",
       "      <th>商品月销</th>\n",
       "      <th>商品评论数</th>\n",
       "      <th>商品人气</th>\n",
       "      <th>原产地</th>\n",
       "      <th>包装方式</th>\n",
       "      <th>包装种类</th>\n",
       "      <th>形状</th>\n",
       "      <th>净含量</th>\n",
       "      <th>茶种类</th>\n",
       "      <th>收益</th>\n",
       "    </tr>\n",
       "  </thead>\n",
       "  <tbody>\n",
       "    <tr>\n",
       "      <th>0</th>\n",
       "      <td>118.0</td>\n",
       "      <td>云南 昆明</td>\n",
       "      <td>94</td>\n",
       "      <td>5</td>\n",
       "      <td>117</td>\n",
       "      <td>2</td>\n",
       "      <td>包装</td>\n",
       "      <td>常规棉纸包装</td>\n",
       "      <td>饼茶</td>\n",
       "      <td>357</td>\n",
       "      <td>普洱茶熟茶</td>\n",
       "      <td>11092.0</td>\n",
       "    </tr>\n",
       "    <tr>\n",
       "      <th>1</th>\n",
       "      <td>148.0</td>\n",
       "      <td>云南 昆明</td>\n",
       "      <td>94</td>\n",
       "      <td>7</td>\n",
       "      <td>224</td>\n",
       "      <td>2</td>\n",
       "      <td>包装</td>\n",
       "      <td>常规棉纸包装</td>\n",
       "      <td>饼茶</td>\n",
       "      <td>357</td>\n",
       "      <td>普洱茶熟茶</td>\n",
       "      <td>13912.0</td>\n",
       "    </tr>\n",
       "    <tr>\n",
       "      <th>2</th>\n",
       "      <td>148.0</td>\n",
       "      <td>福建 泉州</td>\n",
       "      <td>298</td>\n",
       "      <td>55741</td>\n",
       "      <td>86895</td>\n",
       "      <td>0</td>\n",
       "      <td>包装</td>\n",
       "      <td>礼盒装</td>\n",
       "      <td>沱茶</td>\n",
       "      <td>500</td>\n",
       "      <td>普洱茶熟茶</td>\n",
       "      <td>44104.0</td>\n",
       "    </tr>\n",
       "    <tr>\n",
       "      <th>3</th>\n",
       "      <td>560.0</td>\n",
       "      <td>广东 深圳</td>\n",
       "      <td>280</td>\n",
       "      <td>1</td>\n",
       "      <td>4</td>\n",
       "      <td>0</td>\n",
       "      <td>包装</td>\n",
       "      <td>盒装</td>\n",
       "      <td>饼茶</td>\n",
       "      <td>357</td>\n",
       "      <td>普洱茶熟茶</td>\n",
       "      <td>156800.0</td>\n",
       "    </tr>\n",
       "    <tr>\n",
       "      <th>4</th>\n",
       "      <td>398.0</td>\n",
       "      <td>云南 西双版纳</td>\n",
       "      <td>400</td>\n",
       "      <td>406</td>\n",
       "      <td>736</td>\n",
       "      <td>2</td>\n",
       "      <td>包装</td>\n",
       "      <td>常规棉纸包装</td>\n",
       "      <td>饼茶</td>\n",
       "      <td>2499</td>\n",
       "      <td>普洱茶熟茶</td>\n",
       "      <td>159200.0</td>\n",
       "    </tr>\n",
       "  </tbody>\n",
       "</table>\n",
       "</div>"
      ],
      "text/plain": [
       "    单价/元     店铺位置  商品月销  商品评论数   商品人气  原产地 包装方式    包装种类  形状   净含量    茶种类  \\\n",
       "0  118.0    云南 昆明    94      5    117    2   包装  常规棉纸包装  饼茶   357  普洱茶熟茶   \n",
       "1  148.0    云南 昆明    94      7    224    2   包装  常规棉纸包装  饼茶   357  普洱茶熟茶   \n",
       "2  148.0    福建 泉州   298  55741  86895    0   包装     礼盒装  沱茶   500  普洱茶熟茶   \n",
       "3  560.0    广东 深圳   280      1      4    0   包装      盒装  饼茶   357  普洱茶熟茶   \n",
       "4  398.0  云南 西双版纳   400    406    736    2   包装  常规棉纸包装  饼茶  2499  普洱茶熟茶   \n",
       "\n",
       "         收益  \n",
       "0   11092.0  \n",
       "1   13912.0  \n",
       "2   44104.0  \n",
       "3  156800.0  \n",
       "4  159200.0  "
      ]
     },
     "execution_count": 70,
     "metadata": {},
     "output_type": "execute_result"
    }
   ],
   "source": [
    "data_yun.head()"
   ]
  },
  {
   "cell_type": "code",
   "execution_count": 71,
   "metadata": {},
   "outputs": [
    {
     "data": {
      "text/plain": [
       "单价/元     0\n",
       "店铺位置     0\n",
       "商品月销     0\n",
       "商品评论数    0\n",
       "商品人气     0\n",
       "原产地      0\n",
       "包装方式     0\n",
       "包装种类     0\n",
       "形状       2\n",
       "净含量      0\n",
       "茶种类      0\n",
       "收益       0\n",
       "dtype: int64"
      ]
     },
     "execution_count": 71,
     "metadata": {},
     "output_type": "execute_result"
    }
   ],
   "source": [
    "data_yun.isnull().sum()"
   ]
  },
  {
   "cell_type": "code",
   "execution_count": 72,
   "metadata": {},
   "outputs": [],
   "source": [
    "data_yun['形状'] = data_yun['形状'].fillna('0')"
   ]
  },
  {
   "cell_type": "code",
   "execution_count": 73,
   "metadata": {},
   "outputs": [
    {
     "data": {
      "text/plain": [
       "单价/元     0\n",
       "店铺位置     0\n",
       "商品月销     0\n",
       "商品评论数    0\n",
       "商品人气     0\n",
       "原产地      0\n",
       "包装方式     0\n",
       "包装种类     0\n",
       "形状       0\n",
       "净含量      0\n",
       "茶种类      0\n",
       "收益       0\n",
       "dtype: int64"
      ]
     },
     "execution_count": 73,
     "metadata": {},
     "output_type": "execute_result"
    }
   ],
   "source": [
    "data_yun.isnull().sum()"
   ]
  },
  {
   "cell_type": "code",
   "execution_count": 112,
   "metadata": {},
   "outputs": [
    {
     "data": {
      "text/html": [
       "<div>\n",
       "<style scoped>\n",
       "    .dataframe tbody tr th:only-of-type {\n",
       "        vertical-align: middle;\n",
       "    }\n",
       "\n",
       "    .dataframe tbody tr th {\n",
       "        vertical-align: top;\n",
       "    }\n",
       "\n",
       "    .dataframe thead th {\n",
       "        text-align: right;\n",
       "    }\n",
       "</style>\n",
       "<table border=\"1\" class=\"dataframe\">\n",
       "  <thead>\n",
       "    <tr style=\"text-align: right;\">\n",
       "      <th></th>\n",
       "      <th>单价/元</th>\n",
       "      <th>商品月销</th>\n",
       "      <th>商品评论数</th>\n",
       "      <th>商品人气</th>\n",
       "      <th>原产地</th>\n",
       "      <th>净含量</th>\n",
       "      <th>收益</th>\n",
       "    </tr>\n",
       "  </thead>\n",
       "  <tbody>\n",
       "    <tr>\n",
       "      <th>count</th>\n",
       "      <td>112.000000</td>\n",
       "      <td>112.000000</td>\n",
       "      <td>112.000000</td>\n",
       "      <td>112.000000</td>\n",
       "      <td>112.000000</td>\n",
       "      <td>112.000000</td>\n",
       "      <td>1.120000e+02</td>\n",
       "    </tr>\n",
       "    <tr>\n",
       "      <th>mean</th>\n",
       "      <td>336.737500</td>\n",
       "      <td>412.946429</td>\n",
       "      <td>6231.107143</td>\n",
       "      <td>11103.607143</td>\n",
       "      <td>1.053571</td>\n",
       "      <td>1135.035714</td>\n",
       "      <td>1.919019e+05</td>\n",
       "    </tr>\n",
       "    <tr>\n",
       "      <th>std</th>\n",
       "      <td>389.247402</td>\n",
       "      <td>663.854956</td>\n",
       "      <td>16406.832981</td>\n",
       "      <td>30085.982469</td>\n",
       "      <td>0.857813</td>\n",
       "      <td>925.516879</td>\n",
       "      <td>5.346013e+05</td>\n",
       "    </tr>\n",
       "    <tr>\n",
       "      <th>min</th>\n",
       "      <td>9.900000</td>\n",
       "      <td>0.000000</td>\n",
       "      <td>0.000000</td>\n",
       "      <td>4.000000</td>\n",
       "      <td>0.000000</td>\n",
       "      <td>30.000000</td>\n",
       "      <td>0.000000e+00</td>\n",
       "    </tr>\n",
       "    <tr>\n",
       "      <th>25%</th>\n",
       "      <td>128.000000</td>\n",
       "      <td>139.250000</td>\n",
       "      <td>116.000000</td>\n",
       "      <td>311.500000</td>\n",
       "      <td>0.000000</td>\n",
       "      <td>357.000000</td>\n",
       "      <td>1.597575e+04</td>\n",
       "    </tr>\n",
       "    <tr>\n",
       "      <th>50%</th>\n",
       "      <td>218.500000</td>\n",
       "      <td>249.000000</td>\n",
       "      <td>603.500000</td>\n",
       "      <td>1707.000000</td>\n",
       "      <td>1.000000</td>\n",
       "      <td>600.000000</td>\n",
       "      <td>5.388150e+04</td>\n",
       "    </tr>\n",
       "    <tr>\n",
       "      <th>75%</th>\n",
       "      <td>398.000000</td>\n",
       "      <td>471.250000</td>\n",
       "      <td>3178.750000</td>\n",
       "      <td>7782.500000</td>\n",
       "      <td>2.000000</td>\n",
       "      <td>2499.000000</td>\n",
       "      <td>1.468480e+05</td>\n",
       "    </tr>\n",
       "    <tr>\n",
       "      <th>max</th>\n",
       "      <td>2180.000000</td>\n",
       "      <td>6000.000000</td>\n",
       "      <td>124941.000000</td>\n",
       "      <td>243604.000000</td>\n",
       "      <td>2.000000</td>\n",
       "      <td>2499.000000</td>\n",
       "      <td>3.780000e+06</td>\n",
       "    </tr>\n",
       "  </tbody>\n",
       "</table>\n",
       "</div>"
      ],
      "text/plain": [
       "              单价/元         商品月销          商品评论数           商品人气         原产地  \\\n",
       "count   112.000000   112.000000     112.000000     112.000000  112.000000   \n",
       "mean    336.737500   412.946429    6231.107143   11103.607143    1.053571   \n",
       "std     389.247402   663.854956   16406.832981   30085.982469    0.857813   \n",
       "min       9.900000     0.000000       0.000000       4.000000    0.000000   \n",
       "25%     128.000000   139.250000     116.000000     311.500000    0.000000   \n",
       "50%     218.500000   249.000000     603.500000    1707.000000    1.000000   \n",
       "75%     398.000000   471.250000    3178.750000    7782.500000    2.000000   \n",
       "max    2180.000000  6000.000000  124941.000000  243604.000000    2.000000   \n",
       "\n",
       "               净含量            收益  \n",
       "count   112.000000  1.120000e+02  \n",
       "mean   1135.035714  1.919019e+05  \n",
       "std     925.516879  5.346013e+05  \n",
       "min      30.000000  0.000000e+00  \n",
       "25%     357.000000  1.597575e+04  \n",
       "50%     600.000000  5.388150e+04  \n",
       "75%    2499.000000  1.468480e+05  \n",
       "max    2499.000000  3.780000e+06  "
      ]
     },
     "execution_count": 112,
     "metadata": {},
     "output_type": "execute_result"
    }
   ],
   "source": [
    "data_yun.describe()"
   ]
  },
  {
   "cell_type": "code",
   "execution_count": 74,
   "metadata": {},
   "outputs": [
    {
     "data": {
      "text/plain": [
       "<matplotlib.axes._subplots.AxesSubplot at 0x27cf91c06c8>"
      ]
     },
     "execution_count": 74,
     "metadata": {},
     "output_type": "execute_result"
    },
    {
     "data": {
      "image/png": "[encoded data removed]",
      "text/plain": [
       "<Figure size 432x288 with 1 Axes>"
      ]
     },
     "metadata": {},
     "output_type": "display_data"
    }
   ],
   "source": [
    "sns.set(font='SimHei')\n",
    "plt.rcParams['font.sans-serif'] = ['SimHei']\n",
    "plt.rcParams['axes.unicode_minus'] = False\n",
    "plt.xticks(rotation=45)\n",
    "sns.countplot(data_yun['店铺位置'])"
   ]
  },
  {
   "cell_type": "code",
   "execution_count": 75,
   "metadata": {},
   "outputs": [
    {
     "data": {
      "text/plain": [
       "<matplotlib.axes._subplots.AxesSubplot at 0x27cf9251e88>"
      ]
     },
     "execution_count": 75,
     "metadata": {},
     "output_type": "execute_result"
    },
    {
     "data": {
      "image/png": "[encoded data removed]",
      "text/plain": [
       "<Figure size 432x288 with 1 Axes>"
      ]
     },
     "metadata": {},
     "output_type": "display_data"
    }
   ],
   "source": [
    "plt.xticks(rotation=45)\n",
    "sns.countplot(data_yun['店铺位置'],hue=data_yun['原产地'])"
   ]
  },
  {
   "cell_type": "code",
   "execution_count": 76,
   "metadata": {},
   "outputs": [
    {
     "data": {
      "text/plain": [
       "<matplotlib.axes._subplots.AxesSubplot at 0x27cf9390ac8>"
      ]
     },
     "execution_count": 76,
     "metadata": {},
     "output_type": "execute_result"
    },
    {
     "data": {
      "image/png": "[encoded data removed]",
      "text/plain": [
       "<Figure size 432x288 with 1 Axes>"
      ]
     },
     "metadata": {},
     "output_type": "display_data"
    }
   ],
   "source": [
    "sns.countplot(data_yun['原产地'])"
   ]
  },
  {
   "cell_type": "code",
   "execution_count": 77,
   "metadata": {},
   "outputs": [
    {
     "data": {
      "text/plain": [
       "(array([58., 36.,  6.,  5.,  2.,  0.,  0.,  1.,  3.,  1.]),\n",
       " array([   9.9 ,  226.91,  443.92,  660.93,  877.94, 1094.95, 1311.96,\n",
       "        1528.97, 1745.98, 1962.99, 2180.  ]),\n",
       " <a list of 10 Patch objects>)"
      ]
     },
     "execution_count": 77,
     "metadata": {},
     "output_type": "execute_result"
    },
    {
     "data": {
      "image/png": "[encoded data removed]",
      "text/plain": [
       "<Figure size 432x288 with 1 Axes>"
      ]
     },
     "metadata": {},
     "output_type": "display_data"
    }
   ],
   "source": [
    "plt.hist(data_yun['单价/元'])"
   ]
  },
  {
   "cell_type": "code",
   "execution_count": 78,
   "metadata": {},
   "outputs": [
    {
     "data": {
      "text/plain": [
       "(array([95., 12.,  2.,  2.,  0.,  0.,  0.,  0.,  0.,  1.]),\n",
       " array([   0.,  600., 1200., 1800., 2400., 3000., 3600., 4200., 4800.,\n",
       "        5400., 6000.]),\n",
       " <a list of 10 Patch objects>)"
      ]
     },
     "execution_count": 78,
     "metadata": {},
     "output_type": "execute_result"
    },
    {
     "data": {
      "image/png": "[encoded data removed]",
      "text/plain": [
       "<Figure size 432x288 with 1 Axes>"
      ]
     },
     "metadata": {},
     "output_type": "display_data"
    }
   ],
   "source": [
    "plt.hist(data_yun['商品月销'], alpha=0.8)"
   ]
  },
  {
   "cell_type": "code",
   "execution_count": 79,
   "metadata": {},
   "outputs": [
    {
     "data": {
      "text/plain": [
       "(array([97.,  8.,  3.,  0.,  2.,  1.,  0.,  0.,  0.,  1.]),\n",
       " array([     0. ,  12494.1,  24988.2,  37482.3,  49976.4,  62470.5,\n",
       "         74964.6,  87458.7,  99952.8, 112446.9, 124941. ]),\n",
       " <a list of 10 Patch objects>)"
      ]
     },
     "execution_count": 79,
     "metadata": {},
     "output_type": "execute_result"
    },
    {
     "data": {
      "image/png": "[encoded data removed]",
      "text/plain": [
       "<Figure size 432x288 with 1 Axes>"
      ]
     },
     "metadata": {},
     "output_type": "display_data"
    }
   ],
   "source": [
    "plt.hist(data_yun['商品评论数'], alpha=0.6)"
   ]
  },
  {
   "cell_type": "code",
   "execution_count": 80,
   "metadata": {},
   "outputs": [
    {
     "data": {
      "text/plain": [
       "(array([98.,  9.,  1.,  2.,  0.,  0.,  1.,  0.,  0.,  1.]),\n",
       " array([4.00000e+00, 2.43640e+04, 4.87240e+04, 7.30840e+04, 9.74440e+04,\n",
       "        1.21804e+05, 1.46164e+05, 1.70524e+05, 1.94884e+05, 2.19244e+05,\n",
       "        2.43604e+05]),\n",
       " <a list of 10 Patch objects>)"
      ]
     },
     "execution_count": 80,
     "metadata": {},
     "output_type": "execute_result"
    },
    {
     "data": {
      "image/png": "[encoded data removed]",
      "text/plain": [
       "<Figure size 432x288 with 1 Axes>"
      ]
     },
     "metadata": {},
     "output_type": "display_data"
    }
   ],
   "source": [
    "plt.hist(data_yun['商品人气'], alpha=0.6)"
   ]
  },
  {
   "cell_type": "code",
   "execution_count": 81,
   "metadata": {},
   "outputs": [
    {
     "data": {
      "text/plain": [
       "<matplotlib.axes._subplots.AxesSubplot at 0x27cf9587ac8>"
      ]
     },
     "execution_count": 81,
     "metadata": {},
     "output_type": "execute_result"
    },
    {
     "data": {
      "image/png": "[encoded data removed]",
      "text/plain": [
       "<Figure size 432x288 with 1 Axes>"
      ]
     },
     "metadata": {},
     "output_type": "display_data"
    }
   ],
   "source": [
    "plt.xticks(rotation=45)\n",
    "sns.countplot(data_yun['包装方式'])"
   ]
  },
  {
   "cell_type": "code",
   "execution_count": 82,
   "metadata": {},
   "outputs": [
    {
     "data": {
      "text/plain": [
       "<matplotlib.axes._subplots.AxesSubplot at 0x27cf95f7e48>"
      ]
     },
     "execution_count": 82,
     "metadata": {},
     "output_type": "execute_result"
    },
    {
     "data": {
      "image/png": "[encoded data removed]",
      "text/plain": [
       "<Figure size 432x288 with 1 Axes>"
      ]
     },
     "metadata": {},
     "output_type": "display_data"
    }
   ],
   "source": [
    "plt.xticks(rotation=45)\n",
    "sns.countplot(data_yun['包装种类'])"
   ]
  },
  {
   "cell_type": "code",
   "execution_count": 83,
   "metadata": {},
   "outputs": [
    {
     "data": {
      "text/plain": [
       "<matplotlib.axes._subplots.AxesSubplot at 0x27cf9694a08>"
      ]
     },
     "execution_count": 83,
     "metadata": {},
     "output_type": "execute_result"
    },
    {
     "data": {
      "image/png": "[encoded data removed]",
      "text/plain": [
       "<Figure size 432x288 with 1 Axes>"
      ]
     },
     "metadata": {},
     "output_type": "display_data"
    }
   ],
   "source": [
    "plt.xticks(rotation=45)\n",
    "sns.countplot(data_yun['形状'])"
   ]
  },
  {
   "cell_type": "code",
   "execution_count": 84,
   "metadata": {},
   "outputs": [
    {
     "data": {
      "text/plain": [
       "(array([ 8., 47.,  7., 13.,  1.,  1.,  0.,  3.,  0., 32.]),\n",
       " array([  30. ,  276.9,  523.8,  770.7, 1017.6, 1264.5, 1511.4, 1758.3,\n",
       "        2005.2, 2252.1, 2499. ]),\n",
       " <a list of 10 Patch objects>)"
      ]
     },
     "execution_count": 84,
     "metadata": {},
     "output_type": "execute_result"
    },
    {
     "data": {
      "image/png": "[encoded data removed]",
      "text/plain": [
       "<Figure size 432x288 with 1 Axes>"
      ]
     },
     "metadata": {},
     "output_type": "display_data"
    }
   ],
   "source": [
    "plt.hist(data_yun['净含量'], alpha=0.8)"
   ]
  },
  {
   "cell_type": "code",
   "execution_count": 85,
   "metadata": {},
   "outputs": [
    {
     "data": {
      "text/plain": [
       "<matplotlib.axes._subplots.AxesSubplot at 0x27cf973f908>"
      ]
     },
     "execution_count": 85,
     "metadata": {},
     "output_type": "execute_result"
    },
    {
     "data": {
      "image/png": "[encoded data removed]",
      "text/plain": [
       "<Figure size 432x288 with 1 Axes>"
      ]
     },
     "metadata": {},
     "output_type": "display_data"
    }
   ],
   "source": [
    "plt.xticks(rotation=45)\n",
    "sns.countplot(data_yun['茶种类'])"
   ]
  },
  {
   "cell_type": "code",
   "execution_count": 89,
   "metadata": {},
   "outputs": [],
   "source": [
    "data_chuan = pd.read_excel('四川品种茶(1).xls')"
   ]
  },
  {
   "cell_type": "code",
   "execution_count": 90,
   "metadata": {},
   "outputs": [
    {
     "data": {
      "text/html": [
       "<div>\n",
       "<style scoped>\n",
       "    .dataframe tbody tr th:only-of-type {\n",
       "        vertical-align: middle;\n",
       "    }\n",
       "\n",
       "    .dataframe tbody tr th {\n",
       "        vertical-align: top;\n",
       "    }\n",
       "\n",
       "    .dataframe thead th {\n",
       "        text-align: right;\n",
       "    }\n",
       "</style>\n",
       "<table border=\"1\" class=\"dataframe\">\n",
       "  <thead>\n",
       "    <tr style=\"text-align: right;\">\n",
       "      <th></th>\n",
       "      <th>商品名</th>\n",
       "      <th>单价/元</th>\n",
       "      <th>店铺名称</th>\n",
       "      <th>店铺位置</th>\n",
       "      <th>商品月销</th>\n",
       "      <th>商品评论数</th>\n",
       "      <th>商品人气</th>\n",
       "      <th>原产地</th>\n",
       "      <th>商品详情</th>\n",
       "      <th>包装方式</th>\n",
       "      <th>包装种类</th>\n",
       "      <th>形状</th>\n",
       "      <th>净含量</th>\n",
       "      <th>茶种类</th>\n",
       "      <th>收益</th>\n",
       "    </tr>\n",
       "  </thead>\n",
       "  <tbody>\n",
       "    <tr>\n",
       "      <th>0</th>\n",
       "      <td>蒙顶山茉莉花茶2020新茶四川梦唐飘雪兰雪浓香型特级毛尖茶叶250g</td>\n",
       "      <td>108.0</td>\n",
       "      <td>romanticbear888</td>\n",
       "      <td>四川 成都</td>\n",
       "      <td>81</td>\n",
       "      <td>507</td>\n",
       "      <td>7816</td>\n",
       "      <td>2</td>\n",
       "      <td>生产许可证编号: SC11451180300391\\n产品标准号: GB/T18665\\n厂...</td>\n",
       "      <td>包装</td>\n",
       "      <td>罐装</td>\n",
       "      <td>叶形</td>\n",
       "      <td>250</td>\n",
       "      <td>茉莉花茶</td>\n",
       "      <td>8748.0</td>\n",
       "    </tr>\n",
       "    <tr>\n",
       "      <th>1</th>\n",
       "      <td>【臻尖小雅】茉莉花茶2020新茶 特级浓香茶叶 四川茉莉花茶叶250g</td>\n",
       "      <td>98.0</td>\n",
       "      <td>臻尖茶业</td>\n",
       "      <td>四川 成都</td>\n",
       "      <td>68</td>\n",
       "      <td>105</td>\n",
       "      <td>2846</td>\n",
       "      <td>2</td>\n",
       "      <td>生产许可证编号: SC11451180300391\\n厂名: 雅安市名山区香满堂茶厂\\n厂址...</td>\n",
       "      <td>包装</td>\n",
       "      <td>盒装</td>\n",
       "      <td>NaN</td>\n",
       "      <td>250</td>\n",
       "      <td>茉莉花茶</td>\n",
       "      <td>6664.0</td>\n",
       "    </tr>\n",
       "    <tr>\n",
       "      <th>2</th>\n",
       "      <td>蒙顶山茶2020新茶兰香雪芽纯手工浓香型碧池兰妃兰花茶叶250g包邮</td>\n",
       "      <td>365.0</td>\n",
       "      <td>新汇茶业集团</td>\n",
       "      <td>四川 雅安</td>\n",
       "      <td>14</td>\n",
       "      <td>97</td>\n",
       "      <td>143</td>\n",
       "      <td>1</td>\n",
       "      <td>生产许可证编号: SC11451180300617\\n厂名: 雅安市名山区雅茗源茶业有限公司...</td>\n",
       "      <td>散装</td>\n",
       "      <td>NaN</td>\n",
       "      <td>NaN</td>\n",
       "      <td>250</td>\n",
       "      <td>茉莉花茶</td>\n",
       "      <td>5110.0</td>\n",
       "    </tr>\n",
       "    <tr>\n",
       "      <th>3</th>\n",
       "      <td>2020新茶四川茶叶蒙顶山茶叶毛尖绿茶浓香型明前高山雪芽嫩芽250g</td>\n",
       "      <td>128.0</td>\n",
       "      <td>姿雅茶业</td>\n",
       "      <td>四川 雅安</td>\n",
       "      <td>4</td>\n",
       "      <td>41</td>\n",
       "      <td>230</td>\n",
       "      <td>1</td>\n",
       "      <td>品牌: 蒙顶山茶\\n系列: 绿茶\\n形状: 尖形\\n产地: 中国大陆\\n省份: 四川省\\n城...</td>\n",
       "      <td>食用农产品</td>\n",
       "      <td>NaN</td>\n",
       "      <td>尖形</td>\n",
       "      <td>250</td>\n",
       "      <td>毛尖绿茶</td>\n",
       "      <td>512.0</td>\n",
       "    </tr>\n",
       "    <tr>\n",
       "      <th>4</th>\n",
       "      <td>2020新茶蒙顶山花茶毛峰四川茶叶特产茉莉花茶礼盒装浓香型送礼</td>\n",
       "      <td>129.0</td>\n",
       "      <td>map_team</td>\n",
       "      <td>重庆</td>\n",
       "      <td>7</td>\n",
       "      <td>14</td>\n",
       "      <td>58</td>\n",
       "      <td>0</td>\n",
       "      <td>生产许可证编号: SC11451180300852\\n产品标准号: GB/T18665\\n厂...</td>\n",
       "      <td>包装</td>\n",
       "      <td>礼盒装</td>\n",
       "      <td>环形</td>\n",
       "      <td>250</td>\n",
       "      <td>茉莉花茶</td>\n",
       "      <td>903.0</td>\n",
       "    </tr>\n",
       "  </tbody>\n",
       "</table>\n",
       "</div>"
      ],
      "text/plain": [
       "                                   商品名   单价/元             店铺名称   店铺位置  商品月销  \\\n",
       "0   蒙顶山茉莉花茶2020新茶四川梦唐飘雪兰雪浓香型特级毛尖茶叶250g  108.0  romanticbear888  四川 成都    81   \n",
       "1  【臻尖小雅】茉莉花茶2020新茶 特级浓香茶叶 四川茉莉花茶叶250g   98.0             臻尖茶业  四川 成都    68   \n",
       "2   蒙顶山茶2020新茶兰香雪芽纯手工浓香型碧池兰妃兰花茶叶250g包邮  365.0           新汇茶业集团  四川 雅安    14   \n",
       "3   2020新茶四川茶叶蒙顶山茶叶毛尖绿茶浓香型明前高山雪芽嫩芽250g  128.0             姿雅茶业  四川 雅安     4   \n",
       "4      2020新茶蒙顶山花茶毛峰四川茶叶特产茉莉花茶礼盒装浓香型送礼  129.0         map_team     重庆     7   \n",
       "\n",
       "   商品评论数  商品人气  原产地                                               商品详情   包装方式  \\\n",
       "0    507  7816    2  生产许可证编号: SC11451180300391\\n产品标准号: GB/T18665\\n厂...     包装   \n",
       "1    105  2846    2  生产许可证编号: SC11451180300391\\n厂名: 雅安市名山区香满堂茶厂\\n厂址...     包装   \n",
       "2     97   143    1  生产许可证编号: SC11451180300617\\n厂名: 雅安市名山区雅茗源茶业有限公司...     散装   \n",
       "3     41   230    1  品牌: 蒙顶山茶\\n系列: 绿茶\\n形状: 尖形\\n产地: 中国大陆\\n省份: 四川省\\n城...  食用农产品   \n",
       "4     14    58    0  生产许可证编号: SC11451180300852\\n产品标准号: GB/T18665\\n厂...     包装   \n",
       "\n",
       "  包装种类   形状  净含量   茶种类      收益  \n",
       "0   罐装   叶形  250  茉莉花茶  8748.0  \n",
       "1   盒装  NaN  250  茉莉花茶  6664.0  \n",
       "2  NaN  NaN  250  茉莉花茶  5110.0  \n",
       "3  NaN   尖形  250  毛尖绿茶   512.0  \n",
       "4  礼盒装   环形  250  茉莉花茶   903.0  "
      ]
     },
     "execution_count": 90,
     "metadata": {},
     "output_type": "execute_result"
    }
   ],
   "source": [
    "data_chuan.head()"
   ]
  },
  {
   "cell_type": "code",
   "execution_count": 91,
   "metadata": {},
   "outputs": [],
   "source": [
    "data_chuan = data_chuan.drop(['商品名','店铺名称','商品详情'],axis=1)"
   ]
  },
  {
   "cell_type": "code",
   "execution_count": 92,
   "metadata": {},
   "outputs": [
    {
     "data": {
      "text/html": [
       "<div>\n",
       "<style scoped>\n",
       "    .dataframe tbody tr th:only-of-type {\n",
       "        vertical-align: middle;\n",
       "    }\n",
       "\n",
       "    .dataframe tbody tr th {\n",
       "        vertical-align: top;\n",
       "    }\n",
       "\n",
       "    .dataframe thead th {\n",
       "        text-align: right;\n",
       "    }\n",
       "</style>\n",
       "<table border=\"1\" class=\"dataframe\">\n",
       "  <thead>\n",
       "    <tr style=\"text-align: right;\">\n",
       "      <th></th>\n",
       "      <th>单价/元</th>\n",
       "      <th>店铺位置</th>\n",
       "      <th>商品月销</th>\n",
       "      <th>商品评论数</th>\n",
       "      <th>商品人气</th>\n",
       "      <th>原产地</th>\n",
       "      <th>包装方式</th>\n",
       "      <th>包装种类</th>\n",
       "      <th>形状</th>\n",
       "      <th>净含量</th>\n",
       "      <th>茶种类</th>\n",
       "      <th>收益</th>\n",
       "    </tr>\n",
       "  </thead>\n",
       "  <tbody>\n",
       "    <tr>\n",
       "      <th>0</th>\n",
       "      <td>108.0</td>\n",
       "      <td>四川 成都</td>\n",
       "      <td>81</td>\n",
       "      <td>507</td>\n",
       "      <td>7816</td>\n",
       "      <td>2</td>\n",
       "      <td>包装</td>\n",
       "      <td>罐装</td>\n",
       "      <td>叶形</td>\n",
       "      <td>250</td>\n",
       "      <td>茉莉花茶</td>\n",
       "      <td>8748.0</td>\n",
       "    </tr>\n",
       "    <tr>\n",
       "      <th>1</th>\n",
       "      <td>98.0</td>\n",
       "      <td>四川 成都</td>\n",
       "      <td>68</td>\n",
       "      <td>105</td>\n",
       "      <td>2846</td>\n",
       "      <td>2</td>\n",
       "      <td>包装</td>\n",
       "      <td>盒装</td>\n",
       "      <td>NaN</td>\n",
       "      <td>250</td>\n",
       "      <td>茉莉花茶</td>\n",
       "      <td>6664.0</td>\n",
       "    </tr>\n",
       "    <tr>\n",
       "      <th>2</th>\n",
       "      <td>365.0</td>\n",
       "      <td>四川 雅安</td>\n",
       "      <td>14</td>\n",
       "      <td>97</td>\n",
       "      <td>143</td>\n",
       "      <td>1</td>\n",
       "      <td>散装</td>\n",
       "      <td>NaN</td>\n",
       "      <td>NaN</td>\n",
       "      <td>250</td>\n",
       "      <td>茉莉花茶</td>\n",
       "      <td>5110.0</td>\n",
       "    </tr>\n",
       "    <tr>\n",
       "      <th>3</th>\n",
       "      <td>128.0</td>\n",
       "      <td>四川 雅安</td>\n",
       "      <td>4</td>\n",
       "      <td>41</td>\n",
       "      <td>230</td>\n",
       "      <td>1</td>\n",
       "      <td>食用农产品</td>\n",
       "      <td>NaN</td>\n",
       "      <td>尖形</td>\n",
       "      <td>250</td>\n",
       "      <td>毛尖绿茶</td>\n",
       "      <td>512.0</td>\n",
       "    </tr>\n",
       "    <tr>\n",
       "      <th>4</th>\n",
       "      <td>129.0</td>\n",
       "      <td>重庆</td>\n",
       "      <td>7</td>\n",
       "      <td>14</td>\n",
       "      <td>58</td>\n",
       "      <td>0</td>\n",
       "      <td>包装</td>\n",
       "      <td>礼盒装</td>\n",
       "      <td>环形</td>\n",
       "      <td>250</td>\n",
       "      <td>茉莉花茶</td>\n",
       "      <td>903.0</td>\n",
       "    </tr>\n",
       "  </tbody>\n",
       "</table>\n",
       "</div>"
      ],
      "text/plain": [
       "    单价/元   店铺位置  商品月销  商品评论数  商品人气  原产地   包装方式 包装种类   形状  净含量   茶种类      收益\n",
       "0  108.0  四川 成都    81    507  7816    2     包装   罐装   叶形  250  茉莉花茶  8748.0\n",
       "1   98.0  四川 成都    68    105  2846    2     包装   盒装  NaN  250  茉莉花茶  6664.0\n",
       "2  365.0  四川 雅安    14     97   143    1     散装  NaN  NaN  250  茉莉花茶  5110.0\n",
       "3  128.0  四川 雅安     4     41   230    1  食用农产品  NaN   尖形  250  毛尖绿茶   512.0\n",
       "4  129.0     重庆     7     14    58    0     包装  礼盒装   环形  250  茉莉花茶   903.0"
      ]
     },
     "execution_count": 92,
     "metadata": {},
     "output_type": "execute_result"
    }
   ],
   "source": [
    "data_chuan.head()"
   ]
  },
  {
   "cell_type": "code",
   "execution_count": 93,
   "metadata": {},
   "outputs": [
    {
     "data": {
      "text/plain": [
       "单价/元      0\n",
       "店铺位置      0\n",
       "商品月销      0\n",
       "商品评论数     0\n",
       "商品人气      0\n",
       "原产地       0\n",
       "包装方式      0\n",
       "包装种类     35\n",
       "形状       50\n",
       "净含量       0\n",
       "茶种类       0\n",
       "收益        0\n",
       "dtype: int64"
      ]
     },
     "execution_count": 93,
     "metadata": {},
     "output_type": "execute_result"
    }
   ],
   "source": [
    "data_chuan.isnull().sum()"
   ]
  },
  {
   "cell_type": "code",
   "execution_count": 94,
   "metadata": {},
   "outputs": [],
   "source": [
    "data_chuan['包装种类'] = data_chuan['包装种类'].fillna('0')\n",
    "data_chuan['形状'] = data_chuan['形状'].fillna('0')"
   ]
  },
  {
   "cell_type": "code",
   "execution_count": 95,
   "metadata": {},
   "outputs": [
    {
     "data": {
      "text/plain": [
       "单价/元     0\n",
       "店铺位置     0\n",
       "商品月销     0\n",
       "商品评论数    0\n",
       "商品人气     0\n",
       "原产地      0\n",
       "包装方式     0\n",
       "包装种类     0\n",
       "形状       0\n",
       "净含量      0\n",
       "茶种类      0\n",
       "收益       0\n",
       "dtype: int64"
      ]
     },
     "execution_count": 95,
     "metadata": {},
     "output_type": "execute_result"
    }
   ],
   "source": [
    "data_chuan.isnull().sum()"
   ]
  },
  {
   "cell_type": "code",
   "execution_count": 113,
   "metadata": {},
   "outputs": [
    {
     "data": {
      "text/html": [
       "<div>\n",
       "<style scoped>\n",
       "    .dataframe tbody tr th:only-of-type {\n",
       "        vertical-align: middle;\n",
       "    }\n",
       "\n",
       "    .dataframe tbody tr th {\n",
       "        vertical-align: top;\n",
       "    }\n",
       "\n",
       "    .dataframe thead th {\n",
       "        text-align: right;\n",
       "    }\n",
       "</style>\n",
       "<table border=\"1\" class=\"dataframe\">\n",
       "  <thead>\n",
       "    <tr style=\"text-align: right;\">\n",
       "      <th></th>\n",
       "      <th>单价/元</th>\n",
       "      <th>商品月销</th>\n",
       "      <th>商品评论数</th>\n",
       "      <th>商品人气</th>\n",
       "      <th>原产地</th>\n",
       "      <th>净含量</th>\n",
       "      <th>收益</th>\n",
       "    </tr>\n",
       "  </thead>\n",
       "  <tbody>\n",
       "    <tr>\n",
       "      <th>count</th>\n",
       "      <td>112.000000</td>\n",
       "      <td>112.000000</td>\n",
       "      <td>112.000000</td>\n",
       "      <td>112.000000</td>\n",
       "      <td>112.000000</td>\n",
       "      <td>112.000000</td>\n",
       "      <td>1.120000e+02</td>\n",
       "    </tr>\n",
       "    <tr>\n",
       "      <th>mean</th>\n",
       "      <td>298.940179</td>\n",
       "      <td>263.125000</td>\n",
       "      <td>921.562500</td>\n",
       "      <td>3012.803571</td>\n",
       "      <td>1.250000</td>\n",
       "      <td>256.758929</td>\n",
       "      <td>7.853227e+04</td>\n",
       "    </tr>\n",
       "    <tr>\n",
       "      <th>std</th>\n",
       "      <td>406.622227</td>\n",
       "      <td>841.831734</td>\n",
       "      <td>1580.198304</td>\n",
       "      <td>5022.274959</td>\n",
       "      <td>0.493197</td>\n",
       "      <td>163.192047</td>\n",
       "      <td>2.511345e+05</td>\n",
       "    </tr>\n",
       "    <tr>\n",
       "      <th>min</th>\n",
       "      <td>17.000000</td>\n",
       "      <td>2.000000</td>\n",
       "      <td>1.000000</td>\n",
       "      <td>2.000000</td>\n",
       "      <td>0.000000</td>\n",
       "      <td>20.000000</td>\n",
       "      <td>1.782000e+02</td>\n",
       "    </tr>\n",
       "    <tr>\n",
       "      <th>25%</th>\n",
       "      <td>99.000000</td>\n",
       "      <td>27.000000</td>\n",
       "      <td>91.750000</td>\n",
       "      <td>228.750000</td>\n",
       "      <td>1.000000</td>\n",
       "      <td>106.000000</td>\n",
       "      <td>4.824000e+03</td>\n",
       "    </tr>\n",
       "    <tr>\n",
       "      <th>50%</th>\n",
       "      <td>152.500000</td>\n",
       "      <td>88.500000</td>\n",
       "      <td>273.000000</td>\n",
       "      <td>1043.000000</td>\n",
       "      <td>1.000000</td>\n",
       "      <td>250.000000</td>\n",
       "      <td>1.221600e+04</td>\n",
       "    </tr>\n",
       "    <tr>\n",
       "      <th>75%</th>\n",
       "      <td>288.000000</td>\n",
       "      <td>195.000000</td>\n",
       "      <td>770.250000</td>\n",
       "      <td>3083.250000</td>\n",
       "      <td>2.000000</td>\n",
       "      <td>500.000000</td>\n",
       "      <td>3.301350e+04</td>\n",
       "    </tr>\n",
       "    <tr>\n",
       "      <th>max</th>\n",
       "      <td>2280.000000</td>\n",
       "      <td>7000.000000</td>\n",
       "      <td>8043.000000</td>\n",
       "      <td>30714.000000</td>\n",
       "      <td>2.000000</td>\n",
       "      <td>500.000000</td>\n",
       "      <td>1.744712e+06</td>\n",
       "    </tr>\n",
       "  </tbody>\n",
       "</table>\n",
       "</div>"
      ],
      "text/plain": [
       "              单价/元         商品月销        商品评论数          商品人气         原产地  \\\n",
       "count   112.000000   112.000000   112.000000    112.000000  112.000000   \n",
       "mean    298.940179   263.125000   921.562500   3012.803571    1.250000   \n",
       "std     406.622227   841.831734  1580.198304   5022.274959    0.493197   \n",
       "min      17.000000     2.000000     1.000000      2.000000    0.000000   \n",
       "25%      99.000000    27.000000    91.750000    228.750000    1.000000   \n",
       "50%     152.500000    88.500000   273.000000   1043.000000    1.000000   \n",
       "75%     288.000000   195.000000   770.250000   3083.250000    2.000000   \n",
       "max    2280.000000  7000.000000  8043.000000  30714.000000    2.000000   \n",
       "\n",
       "              净含量            收益  \n",
       "count  112.000000  1.120000e+02  \n",
       "mean   256.758929  7.853227e+04  \n",
       "std    163.192047  2.511345e+05  \n",
       "min     20.000000  1.782000e+02  \n",
       "25%    106.000000  4.824000e+03  \n",
       "50%    250.000000  1.221600e+04  \n",
       "75%    500.000000  3.301350e+04  \n",
       "max    500.000000  1.744712e+06  "
      ]
     },
     "execution_count": 113,
     "metadata": {},
     "output_type": "execute_result"
    }
   ],
   "source": [
    "data_chuan.describe()"
   ]
  },
  {
   "cell_type": "code",
   "execution_count": 96,
   "metadata": {},
   "outputs": [
    {
     "data": {
      "text/plain": [
       "<matplotlib.axes._subplots.AxesSubplot at 0x27cf97a9f88>"
      ]
     },
     "execution_count": 96,
     "metadata": {},
     "output_type": "execute_result"
    },
    {
     "data": {
      "image/png": "[encoded data removed]",
      "text/plain": [
       "<Figure size 432x288 with 1 Axes>"
      ]
     },
     "metadata": {},
     "output_type": "display_data"
    }
   ],
   "source": [
    "plt.xticks(rotation=45)\n",
    "sns.countplot(data_chuan['店铺位置'])"
   ]
  },
  {
   "cell_type": "code",
   "execution_count": 97,
   "metadata": {},
   "outputs": [
    {
     "data": {
      "text/plain": [
       "<matplotlib.axes._subplots.AxesSubplot at 0x27cf9a33208>"
      ]
     },
     "execution_count": 97,
     "metadata": {},
     "output_type": "execute_result"
    },
    {
     "data": {
      "image/png": "[encoded data removed]",
      "text/plain": [
       "<Figure size 432x288 with 1 Axes>"
      ]
     },
     "metadata": {},
     "output_type": "display_data"
    }
   ],
   "source": [
    "plt.xticks(rotation=45)\n",
    "sns.countplot(data_chuan['店铺位置'],hue=data_chuan['原产地'])"
   ]
  },
  {
   "cell_type": "code",
   "execution_count": 98,
   "metadata": {},
   "outputs": [
    {
     "data": {
      "text/plain": [
       "<matplotlib.axes._subplots.AxesSubplot at 0x27cf9a8f6c8>"
      ]
     },
     "execution_count": 98,
     "metadata": {},
     "output_type": "execute_result"
    },
    {
     "data": {
      "image/png": "[encoded data removed]",
      "text/plain": [
       "<Figure size 432x288 with 1 Axes>"
      ]
     },
     "metadata": {},
     "output_type": "display_data"
    }
   ],
   "source": [
    "sns.countplot(data_chuan['原产地'])"
   ]
  },
  {
   "cell_type": "code",
   "execution_count": 99,
   "metadata": {},
   "outputs": [
    {
     "data": {
      "text/plain": [
       "(array([75., 24.,  1.,  6.,  0.,  0.,  2.,  0.,  3.,  1.]),\n",
       " array([  17. ,  243.3,  469.6,  695.9,  922.2, 1148.5, 1374.8, 1601.1,\n",
       "        1827.4, 2053.7, 2280. ]),\n",
       " <a list of 10 Patch objects>)"
      ]
     },
     "execution_count": 99,
     "metadata": {},
     "output_type": "execute_result"
    },
    {
     "data": {
      "image/png": "[encoded data removed]",
      "text/plain": [
       "<Figure size 432x288 with 1 Axes>"
      ]
     },
     "metadata": {},
     "output_type": "display_data"
    }
   ],
   "source": [
    "plt.hist(data_chuan['单价/元'])"
   ]
  },
  {
   "cell_type": "code",
   "execution_count": 100,
   "metadata": {},
   "outputs": [
    {
     "data": {
      "text/plain": [
       "(array([106.,   4.,   0.,   0.,   0.,   0.,   0.,   1.,   0.,   1.]),\n",
       " array([2.0000e+00, 7.0180e+02, 1.4016e+03, 2.1014e+03, 2.8012e+03,\n",
       "        3.5010e+03, 4.2008e+03, 4.9006e+03, 5.6004e+03, 6.3002e+03,\n",
       "        7.0000e+03]),\n",
       " <a list of 10 Patch objects>)"
      ]
     },
     "execution_count": 100,
     "metadata": {},
     "output_type": "execute_result"
    },
    {
     "data": {
      "image/png": "[encoded data removed]",
      "text/plain": [
       "<Figure size 432x288 with 1 Axes>"
      ]
     },
     "metadata": {},
     "output_type": "display_data"
    }
   ],
   "source": [
    "plt.hist(data_chuan['商品月销'], alpha=0.8)"
   ]
  },
  {
   "cell_type": "code",
   "execution_count": 101,
   "metadata": {},
   "outputs": [
    {
     "data": {
      "text/plain": [
       "(array([85.,  9.,  4.,  4.,  3.,  2.,  1.,  2.,  0.,  2.]),\n",
       " array([1.0000e+00, 8.0520e+02, 1.6094e+03, 2.4136e+03, 3.2178e+03,\n",
       "        4.0220e+03, 4.8262e+03, 5.6304e+03, 6.4346e+03, 7.2388e+03,\n",
       "        8.0430e+03]),\n",
       " <a list of 10 Patch objects>)"
      ]
     },
     "execution_count": 101,
     "metadata": {},
     "output_type": "execute_result"
    },
    {
     "data": {
      "image/png": "[encoded data removed]",
      "text/plain": [
       "<Figure size 432x288 with 1 Axes>"
      ]
     },
     "metadata": {},
     "output_type": "display_data"
    }
   ],
   "source": [
    "plt.hist(data_chuan['商品评论数'], alpha=0.6)"
   ]
  },
  {
   "cell_type": "code",
   "execution_count": 102,
   "metadata": {},
   "outputs": [
    {
     "data": {
      "text/plain": [
       "(array([84., 13.,  4.,  4.,  1.,  4.,  0.,  1.,  0.,  1.]),\n",
       " array([2.00000e+00, 3.07320e+03, 6.14440e+03, 9.21560e+03, 1.22868e+04,\n",
       "        1.53580e+04, 1.84292e+04, 2.15004e+04, 2.45716e+04, 2.76428e+04,\n",
       "        3.07140e+04]),\n",
       " <a list of 10 Patch objects>)"
      ]
     },
     "execution_count": 102,
     "metadata": {},
     "output_type": "execute_result"
    },
    {
     "data": {
      "image/png": "[encoded data removed]",
      "text/plain": [
       "<Figure size 432x288 with 1 Axes>"
      ]
     },
     "metadata": {},
     "output_type": "display_data"
    }
   ],
   "source": [
    "plt.hist(data_chuan['商品人气'], alpha=0.6)"
   ]
  },
  {
   "cell_type": "code",
   "execution_count": 105,
   "metadata": {},
   "outputs": [
    {
     "data": {
      "text/plain": [
       "<matplotlib.axes._subplots.AxesSubplot at 0x27cfad21548>"
      ]
     },
     "execution_count": 105,
     "metadata": {},
     "output_type": "execute_result"
    },
    {
     "data": {
      "image/png": "[encoded data removed]",
      "text/plain": [
       "<Figure size 432x288 with 1 Axes>"
      ]
     },
     "metadata": {},
     "output_type": "display_data"
    }
   ],
   "source": [
    "plt.xticks(rotation=45)\n",
    "sns.countplot(data_chuan['包装方式'])"
   ]
  },
  {
   "cell_type": "code",
   "execution_count": 106,
   "metadata": {},
   "outputs": [
    {
     "data": {
      "text/plain": [
       "<matplotlib.axes._subplots.AxesSubplot at 0x27cfae04e88>"
      ]
     },
     "execution_count": 106,
     "metadata": {},
     "output_type": "execute_result"
    },
    {
     "data": {
      "image/png": "[encoded data removed]",
      "text/plain": [
       "<Figure size 432x288 with 1 Axes>"
      ]
     },
     "metadata": {},
     "output_type": "display_data"
    }
   ],
   "source": [
    "plt.xticks(rotation=45)\n",
    "sns.countplot(data_chuan['包装种类'])"
   ]
  },
  {
   "cell_type": "code",
   "execution_count": 107,
   "metadata": {},
   "outputs": [
    {
     "data": {
      "text/plain": [
       "<matplotlib.axes._subplots.AxesSubplot at 0x27cfae62f48>"
      ]
     },
     "execution_count": 107,
     "metadata": {},
     "output_type": "execute_result"
    },
    {
     "data": {
      "image/png": "[encoded data removed]",
      "text/plain": [
       "<Figure size 432x288 with 1 Axes>"
      ]
     },
     "metadata": {},
     "output_type": "display_data"
    }
   ],
   "source": [
    "plt.xticks(rotation=45)\n",
    "sns.countplot(data_chuan['形状'])"
   ]
  },
  {
   "cell_type": "code",
   "execution_count": 108,
   "metadata": {},
   "outputs": [
    {
     "data": {
      "text/plain": [
       "(array([14., 19.,  8.,  2., 37.,  2.,  0.,  1.,  0., 29.]),\n",
       " array([ 20.,  68., 116., 164., 212., 260., 308., 356., 404., 452., 500.]),\n",
       " <a list of 10 Patch objects>)"
      ]
     },
     "execution_count": 108,
     "metadata": {},
     "output_type": "execute_result"
    },
    {
     "data": {
      "image/png": "[encoded data removed]",
      "text/plain": [
       "<Figure size 432x288 with 1 Axes>"
      ]
     },
     "metadata": {},
     "output_type": "display_data"
    }
   ],
   "source": [
    "plt.hist(data_chuan['净含量'], alpha=0.8)"
   ]
  },
  {
   "cell_type": "code",
   "execution_count": 109,
   "metadata": {},
   "outputs": [
    {
     "data": {
      "text/plain": [
       "<matplotlib.axes._subplots.AxesSubplot at 0x27cfaf12148>"
      ]
     },
     "execution_count": 109,
     "metadata": {},
     "output_type": "execute_result"
    },
    {
     "data": {
      "image/png": "[encoded data removed]",
      "text/plain": [
       "<Figure size 432x288 with 1 Axes>"
      ]
     },
     "metadata": {},
     "output_type": "display_data"
    }
   ],
   "source": [
    "plt.xticks(rotation=45)\n",
    "sns.countplot(data_chuan['茶种类'])"
   ]
  },
  {
   "cell_type": "code",
   "execution_count": null,
   "metadata": {},
   "outputs": [],
   "source": []
  }
 ],
 "metadata": {
  "kernelspec": {
   "display_name": "Python 3",
   "language": "python",
   "name": "python3"
  },
  "language_info": {
   "codemirror_mode": {
    "name": "ipython",
    "version": 3
   },
   "file_extension": ".py",
   "mimetype": "text/x-python",
   "name": "python",
   "nbconvert_exporter": "python",
   "pygments_lexer": "ipython3",
   "version": "3.7.6"
  }
 },
 "nbformat": 4,
 "nbformat_minor": 4
}
